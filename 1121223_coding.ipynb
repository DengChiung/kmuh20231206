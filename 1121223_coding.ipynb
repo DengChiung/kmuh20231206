{
  "cells": [
    {
      "cell_type": "markdown",
      "metadata": {
        "id": "view-in-github",
        "colab_type": "text"
      },
      "source": [
        "<a href=\"https://colab.research.google.com/github/DengChiung/kmuh20231206/blob/main/1121223_coding.ipynb\" target=\"_parent\"><img src=\"https://colab.research.google.com/assets/colab-badge.svg\" alt=\"Open In Colab\"/></a>"
      ]
    },
    {
      "cell_type": "markdown",
      "metadata": {
        "id": "i5WqwvfWSI-l"
      },
      "source": [
        "# 變數(Variables)和 表⽰式 (Expressions)\n",
        "\n",
        "## 表示式\n"
      ]
    },
    {
      "cell_type": "code",
      "execution_count": 1,
      "metadata": {
        "colab": {
          "base_uri": "https://localhost:8080/"
        },
        "id": "LjMyFdvNSI-n",
        "outputId": "482de5a8-130b-4c52-b974-76e98a351b44"
      },
      "outputs": [
        {
          "output_type": "stream",
          "name": "stdout",
          "text": [
            "8\n",
            "23\n",
            "9\n",
            "Hello World\n"
          ]
        }
      ],
      "source": [
        "print(3 + 5)\n",
        "print(3 + (5 * 4))\n",
        "print(3 ** 2)\n",
        "print('Hello ' + 'World')"
      ]
    },
    {
      "cell_type": "markdown",
      "metadata": {
        "id": "_MkLswPwSI-p"
      },
      "source": [
        "## 變數指定\n",
        "### 型別是動態的，會根據指定時的物件來決定型別\n",
        "### 變數單純只是物件的名稱，並不會和記憶體綁在⼀起。\n",
        "### e.q.和記憶體綁在⼀起的是物件，⽽不是物件名稱!"
      ]
    },
    {
      "cell_type": "code",
      "execution_count": null,
      "metadata": {
        "id": "diXF1Yf-SI-p"
      },
      "outputs": [],
      "source": [
        "a = 4 + 3\n",
        "b = a * 4.5\n",
        "c = (a+b)/2.5\n",
        "e = 'Hello World'"
      ]
    },
    {
      "cell_type": "markdown",
      "metadata": {
        "id": "QIpvPZOcSI-p"
      },
      "source": [
        "# 資料型態\n",
        "### 整數 int\n",
        "### 浮點數 float\n",
        "### 複數 complex\n",
        "### 字串 str\n",
        "### 字節 bytes\n",
        "### 字節陣列 bytearray\n",
        "### 串列 list\n",
        "### 序對 tuple\n",
        "### 集合 set\n",
        "### 字典 dict\n"
      ]
    },
    {
      "cell_type": "markdown",
      "metadata": {
        "id": "kaDgV3RnSI-q"
      },
      "source": [
        "## 內建的數字型態 (numeric types) 共有三種\n",
        "### 1. int整數 -> 100\n",
        "### 2. float浮點數 ->123.45\n",
        "### 3. complex複數 -> 3+4j\n"
      ]
    },
    {
      "cell_type": "markdown",
      "metadata": {
        "id": "bb2nPd1nSI-q"
      },
      "source": [
        "# 數學運算"
      ]
    },
    {
      "cell_type": "code",
      "execution_count": null,
      "metadata": {
        "id": "qDJTqdGRSI-q",
        "outputId": "ca485d1e-7b73-44a0-c634-b3aef1da9034"
      },
      "outputs": [
        {
          "data": {
            "text/plain": [
              "3.3333333333333335"
            ]
          },
          "execution_count": 10,
          "metadata": {},
          "output_type": "execute_result"
        }
      ],
      "source": [
        "10/3"
      ]
    },
    {
      "cell_type": "code",
      "execution_count": null,
      "metadata": {
        "id": "0ojheJJ3SI-q",
        "outputId": "797ab034-fa45-4c93-a099-496699014951"
      },
      "outputs": [
        {
          "data": {
            "text/plain": [
              "25.0"
            ]
          },
          "execution_count": 11,
          "metadata": {},
          "output_type": "execute_result"
        }
      ],
      "source": [
        "50*0.5"
      ]
    },
    {
      "cell_type": "code",
      "execution_count": null,
      "metadata": {
        "id": "ItZFXN_HSI-q",
        "outputId": "0ba3ddff-28f9-415b-e0bc-54d8eb3e793c"
      },
      "outputs": [
        {
          "data": {
            "text/plain": [
              "(10+0j)"
            ]
          },
          "execution_count": 12,
          "metadata": {},
          "output_type": "execute_result"
        }
      ],
      "source": [
        "10+3j-3j"
      ]
    },
    {
      "cell_type": "markdown",
      "metadata": {
        "id": "pnS3jT3NSI-r"
      },
      "source": [
        "# Python所⽀援的特殊運算"
      ]
    },
    {
      "cell_type": "code",
      "execution_count": null,
      "metadata": {
        "id": "PVbOUOdRSI-r",
        "outputId": "5508d6ab-415e-40fa-d418-292adaa9a37d"
      },
      "outputs": [
        {
          "data": {
            "text/plain": [
              "1024"
            ]
          },
          "execution_count": 13,
          "metadata": {},
          "output_type": "execute_result"
        }
      ],
      "source": [
        "#次⽅: 2**10\n",
        "2**10"
      ]
    },
    {
      "cell_type": "code",
      "execution_count": null,
      "metadata": {
        "id": "5Jx2YtQ5SI-r",
        "outputId": "5dcf201d-be14-413c-fc34-282ed4e391ec"
      },
      "outputs": [
        {
          "data": {
            "text/plain": [
              "3"
            ]
          },
          "execution_count": 14,
          "metadata": {},
          "output_type": "execute_result"
        }
      ],
      "source": [
        "#整商除法:\n",
        "10//3"
      ]
    },
    {
      "cell_type": "markdown",
      "metadata": {
        "id": "yzNxbxbTSI-r"
      },
      "source": [
        "# 複數運算\n",
        "## c.real\t實部\n",
        "## c.imag 虛部\n"
      ]
    },
    {
      "cell_type": "code",
      "execution_count": null,
      "metadata": {
        "id": "H-4AZW39SI-r",
        "outputId": "8f13f6e8-2a1a-461b-8470-cfa5a21697f0"
      },
      "outputs": [
        {
          "data": {
            "text/plain": [
              "(26-7j)"
            ]
          },
          "execution_count": 20,
          "metadata": {},
          "output_type": "execute_result"
        }
      ],
      "source": [
        "a=3+4j\n",
        "b=2-5j\n",
        "c=a*b\n",
        "c"
      ]
    },
    {
      "cell_type": "code",
      "execution_count": null,
      "metadata": {
        "id": "TUr8342aSI-s",
        "outputId": "4d0bdaf3-3387-4245-ddc2-9494fa322e6b"
      },
      "outputs": [
        {
          "data": {
            "text/plain": [
              "26.0"
            ]
          },
          "execution_count": 21,
          "metadata": {},
          "output_type": "execute_result"
        }
      ],
      "source": [
        "#c.real 實部\n",
        "c.real"
      ]
    },
    {
      "cell_type": "code",
      "execution_count": null,
      "metadata": {
        "id": "RwQSYzHwSI-s",
        "outputId": "d9fcf186-92de-4c3b-8a5a-9998cd85d8be"
      },
      "outputs": [
        {
          "data": {
            "text/plain": [
              "-7.0"
            ]
          },
          "execution_count": 22,
          "metadata": {},
          "output_type": "execute_result"
        }
      ],
      "source": [
        "#c.imag 虛部\n",
        "c.imag"
      ]
    },
    {
      "cell_type": "markdown",
      "metadata": {
        "id": "w8ZS9owYSI-s"
      },
      "source": [
        "# 序列型態(sequence types)  可進⾏以下的計算"
      ]
    },
    {
      "cell_type": "code",
      "execution_count": null,
      "metadata": {
        "id": "Mxin8okISI-t"
      },
      "outputs": [],
      "source": [
        "# 假設有以下的值\n",
        "x = 3\n",
        "s = [1, 2, 3, 4, 5]\n",
        "t = [6, 7, 8]\n",
        "n = 3\n",
        "i = 2\n",
        "j = 4\n",
        "k = 2"
      ]
    },
    {
      "cell_type": "code",
      "execution_count": null,
      "metadata": {
        "id": "2XBQbk2PSI-t"
      },
      "outputs": [],
      "source": [
        "## 1. 判斷元素是否在序列中\n",
        "# 判斷x是否在s中\n",
        "result1 = x in s\n",
        "print(result1)  # 輸出True\n",
        "\n",
        "# 判斷x是否不在s中\n",
        "result2 = x not in s\n",
        "print(result2)  # 輸出False\n",
        "\n",
        "## 2. 連接與重複序列\n",
        "# 連接s與t\n",
        "result3 = s + t\n",
        "print(result3)  # 輸出[1, 2, 3, 4, 5, 6, 7, 8]\n",
        "\n",
        "# 將s重複n次連接s本身\n",
        "result4 = n * s\n",
        "print(result4)  # 輸出[1, 2, 3, 4, 5, 1, 2, 3, 4, 5, 1, 2, 3, 4, 5]\n",
        "\n",
        "##3. 索引與子序列\n",
        "# 取得索引值i的元素\n",
        "result5 = s[i]\n",
        "print(result5)  # 輸出3\n",
        "\n",
        "# 取得索引值i到j的子序列\n",
        "result6 = s[i:j]\n",
        "print(result6)  # 輸出[3, 4]\n",
        "\n",
        "# 取得索引值i到j，間隔k的子序列\n",
        "result7 = s[i:j:k]\n",
        "print(result7)  # 輸出[3, 5]\n",
        "\n",
        "# 4. 回傳序列的相關資訊\n",
        "# 回傳s的元素個數\n",
        "result8 = len(s)\n",
        "print(result8)  # 輸出5\n",
        "\n",
        "# 回傳s中的最小值\n",
        "result9 = min(s)\n",
        "print(result9)  # 輸出1\n",
        "\n",
        "# 回傳s中的最大值\n",
        "result10 = max(s)\n",
        "print(result10)  # 輸出5\n",
        "\n",
        "#5. 其他操作\n",
        "# 取得s中第一次出現i的索引值\n",
        "result11 = s.index(i)\n",
        "print(result11)  # 輸出2\n",
        "\n",
        "# 累計s中i出現的個數\n",
        "result12 = s.count(i)\n",
        "print(result12)  # 輸出1"
      ]
    },
    {
      "cell_type": "markdown",
      "metadata": {
        "id": "rd8IUwBoSI-t"
      },
      "source": [
        "# 串列(list)"
      ]
    },
    {
      "cell_type": "code",
      "execution_count": null,
      "metadata": {
        "id": "_pat9Yx7SI-t"
      },
      "outputs": [],
      "source": [
        "list1=[1,2+0j,\"three\" ,4.0]  # 不同型態的資料可以被收集在同一個清單中\n",
        "list1[0] #顯示list的第0個元素 (在電腦領域裡計數由零開始)\n",
        "list1[1] #顯示list的第0個元素\n",
        "list1[2] #顯示list的第0個元素"
      ]
    },
    {
      "cell_type": "code",
      "execution_count": null,
      "metadata": {
        "id": "KO9I4T2FSI-t"
      },
      "outputs": [],
      "source": [
        "#任意物件的串列\n",
        "a = [2, 3, 4] # A list of integer\n",
        "b = [2, 7, 3.5, “Hello”] # A mixed list\n",
        "c = [] # An empty list\n",
        "d = [2, [a, b]] # A list containing a list\n",
        "e = a + b # Join two lists\n",
        "\n",
        "#串列的操作\n",
        "x = a[1] # Get 2nd element (0 is first)\n",
        "y = b[1:3] # Return a sub-list\n",
        "z =d[1][0][2] # Nested lists\n",
        "b[0] = 42 # Change an element\n"
      ]
    },
    {
      "cell_type": "markdown",
      "metadata": {
        "id": "iXFotoxYSI-u"
      },
      "source": [
        "# 串列(list)型態有以下的⽅法"
      ]
    },
    {
      "cell_type": "code",
      "execution_count": null,
      "metadata": {
        "id": "VTK53tM8SI-u"
      },
      "outputs": [],
      "source": [
        "my_list = [1, 2, 3, 4, 5]\n",
        "x = 3\n",
        "i = 2"
      ]
    },
    {
      "cell_type": "code",
      "execution_count": null,
      "metadata": {
        "id": "m1GPwAEqSI-u"
      },
      "outputs": [],
      "source": [
        "# 將元素 x 附加到列表的最後\n",
        "my_list.append(x)\n",
        "print(my_list)  # 輸出 [1, 2, 3, 4, 5, 3]\n",
        "\n",
        "# 將列表 x 的所有元素附加到列表的最後\n",
        "my_list.extend([8, 9, 10])\n",
        "print(my_list)  # 輸出 [1, 2, 3, 4, 5, 3, 8, 9, 10]\n",
        "\n",
        "# 計算列表中元素 x 的出現次數\n",
        "count_x = my_list.count(x)\n",
        "print(count_x)  # 輸出 2 (因為 x=3 出現兩次)\n",
        "\n",
        "# 回傳元素 x 在列表中的索引值\n",
        "index_x = my_list.index(x)\n",
        "print(index_x)  # 輸出 2 (x=3 在列表中的第三個位置)\n",
        "\n",
        "# 將元素 x 插入到列表的索引值 i 的位置\n",
        "my_list.insert(i, x)\n",
        "print(my_list)  # 輸出 [1, 2, 3, 3, 4, 5, 3, 8, 9, 10]\n",
        "\n",
        "# 移除並返回列表中索引值為 i 的元素\n",
        "removed_element = my_list.pop(i)\n",
        "print(removed_element)  # 輸出 3 (移除的元素)\n",
        "print(my_list)  # 輸出 [1, 2, 3, 4, 5, 3, 8, 9, 10]\n",
        "\n",
        "# 移除列表中第一個出現的元素 x\n",
        "my_list.remove(x)\n",
        "print(my_list)  # 輸出 [1, 2, 4, 5, 3, 8, 9, 10]\n",
        "\n",
        "# 倒轉列表中元素的順序\n",
        "my_list.reverse()\n",
        "print(my_list)  # 輸出 [10, 9, 8, 3, 5, 4, 2, 1]\n",
        "\n",
        "# 對列表中的元素進行排序\n",
        "my_list.sort()\n",
        "print(my_list)  # 輸出 [1, 2, 3, 4, 5, 8, 9, 10]"
      ]
    },
    {
      "cell_type": "markdown",
      "metadata": {
        "id": "VdXw3rZeSI-u"
      },
      "source": [
        "# 序對(tuple)"
      ]
    },
    {
      "cell_type": "code",
      "execution_count": null,
      "metadata": {
        "id": "dIK6rqP_SI-u"
      },
      "outputs": [],
      "source": [
        "#tuple\n",
        "f = (2,3,4,5) # An empty tuple\n",
        "g = () # An empty tuple\n",
        "h = (2, [3,4], (10,11,12)) # A tuple containing mixed  objects"
      ]
    },
    {
      "cell_type": "code",
      "execution_count": null,
      "metadata": {
        "id": "XUG7CsDeSI-v"
      },
      "outputs": [],
      "source": [
        "#tuple的操作\n",
        "x = f[1] # Element access. x = 3\n",
        "y = f[1:3] # Slices. y = (3,4)\n",
        "z = h[1][1] # Nesting. z = 4"
      ]
    },
    {
      "cell_type": "markdown",
      "metadata": {
        "id": "3sWbj54uSI-v"
      },
      "source": [
        "# 內建集合型態\t(set)"
      ]
    },
    {
      "cell_type": "markdown",
      "metadata": {
        "id": "hY3rtONBSI-v"
      },
      "source": [
        "## 1. Set 的特性\n",
        "## 2. Set 是 Python 中的一種集合型別，其元素是無序的，集合內不允許有重複的元素。\n",
        "## 3. 在建立 Set 時，可以使用花括號 `{}` 或者 `set()` 建構函數。\n",
        "## 4. Set 中的元素順序不影響判斷相等性，只關心是否包含相同的元素。"
      ]
    },
    {
      "cell_type": "code",
      "execution_count": null,
      "metadata": {
        "id": "fHLb3yPdSI-v"
      },
      "outputs": [],
      "source": [
        "# 舉例：\n",
        "s1 = {1, 1, 1, 2, 2, 3, 3, 4, 5}\n",
        "s2 = {15, 3, 1, 2, 4}\n",
        "\n",
        "# 檢查兩個 Set 是否相等\n",
        "print(s1 == s2)  # 輸出 True\n",
        "\n",
        "# 以 set 類型的建構函數去除重複元素\n",
        "S1 = set(s1)\n",
        "S2 = set(s2)\n",
        "\n",
        "# 顯示排序後的 Set\n",
        "print(S1)  # 輸出 {1, 2, 3, 4, 5}\n",
        "print(S2)  # 輸出 {1, 2, 3, 4, 5}\n",
        "\n",
        "# Set 是可變型態，因此指定時會產生新的 ID\n",
        "print(id(s1))  # 輸出 4367107912\n",
        "print(id(s2))  # 輸出 4367109928\n",
        "\n",
        "# 檢查兩個 Set 是否為同一個物件\n",
        "print(s1 is s2)  # 輸出 False"
      ]
    },
    {
      "cell_type": "markdown",
      "metadata": {
        "id": "csY30cflSI-v"
      },
      "source": [
        "# 集合型態物件相對應的⽅法"
      ]
    },
    {
      "cell_type": "code",
      "execution_count": null,
      "metadata": {
        "id": "S8GvQl1qSI-w"
      },
      "outputs": [],
      "source": [
        "# 定義兩個 Set\n",
        "s1 = {1, 2, 3, 4, 5}\n",
        "s2 = {3, 4, 5, 6, 7}\n",
        "\n",
        "# 等於 s1 & s2，取得兩個 Set 的交集\n",
        "intersection_result = s1.intersection(s2)\n",
        "print(intersection_result)  # 輸出 {3, 4, 5}\n",
        "\n",
        "# 等於 s1 | s2，取得兩個 Set 的聯集\n",
        "union_result = s1.union(s2)\n",
        "print(union_result)  # 輸出 {1, 2, 3, 4, 5, 6, 7}\n",
        "\n",
        "# 等於 s1 ^ s2，取得兩個 Set 的對稱差異\n",
        "symmetric_difference_result = s1.symmetric_difference(s2)\n",
        "print(symmetric_difference_result)  # 輸出 {1, 2, 6, 7}\n",
        "\n",
        "# 等於 s1 - s2，取得 s1 中不在 s2 中的元素\n",
        "difference_result = s1.difference(s2)\n",
        "print(difference_result)  # 輸出 {1, 2}\n",
        "\n",
        "# 等於 s1 <= s2，判斷 s1 是否為 s2 的子集\n",
        "is_subset = s1.issubset(s2)\n",
        "print(is_subset)  # 輸出 False\n",
        "\n",
        "# 等於 s1 >= s2，判斷 s1 是否為 s2 的超集\n",
        "is_superset = s1.issuperset(s2)\n",
        "print(is_superset)  # 輸出 False\n",
        "\n",
        "# 判斷 s1 與 s2 是否交集，若不交集則返回 True，否則返回 False\n",
        "is_disjoint = s1.isdisjoint(s2)\n",
        "print(is_disjoint)  # 輸出 False\n",
        "\n",
        "# 回傳 s 的拷貝\n",
        "s_copy = s1.copy()\n",
        "print(s_copy)  # 輸出 {1, 2, 3, 4, 5}"
      ]
    },
    {
      "cell_type": "markdown",
      "metadata": {
        "id": "8Q_Kly1ISI-w"
      },
      "source": [
        "# 由於 set 型態是可變的，因此有額外兩個新增與刪除元素的⽅法\n"
      ]
    },
    {
      "cell_type": "code",
      "execution_count": null,
      "metadata": {
        "id": "4iseqSgrSI-w"
      },
      "outputs": [],
      "source": [
        "# 定義一個 Set\n",
        "s = {1, 2, 3, 4, 5}\n",
        "\n",
        "# 使用 add 方法增加元素\n",
        "s.add(6)\n",
        "print(s)  # 輸出 {1, 2, 3, 4, 5, 6}\n",
        "\n",
        "# 使用 remove 方法刪除元素\n",
        "s.remove(3)\n",
        "print(s)  # 輸出 {1, 2, 4, 5, 6}"
      ]
    },
    {
      "cell_type": "markdown",
      "metadata": {
        "id": "u82mM2VTSI-w"
      },
      "source": [
        "# 內建字典型態\t(dict)"
      ]
    },
    {
      "cell_type": "markdown",
      "metadata": {
        "id": "CdJL3MH8SI-w"
      },
      "source": [
        "## 字典物件可進⾏的運算"
      ]
    },
    {
      "cell_type": "code",
      "execution_count": null,
      "metadata": {
        "id": "x8Zk9ohrSI-w"
      },
      "outputs": [],
      "source": [
        "# 定義一個字典\n",
        "my_dict = {'name': 'John', 'age': 30, 'city': 'New York'}\n",
        "\n",
        "# 從字典中取得鍵 'name' 的值\n",
        "value = my_dict['name']\n",
        "print(f\"Value for key 'name': {value}\")\n",
        "\n",
        "# 將字典中鍵 'age' 指定為值 35\n",
        "my_dict['age'] = 35\n",
        "print(f\"Updated dictionary: {my_dict}\")\n",
        "\n",
        "# 刪除字典中鍵 'city' 及其值\n",
        "del my_dict['city']\n",
        "print(f\"Dictionary after deleting key 'city': {my_dict}\")\n",
        "\n",
        "# 判斷鍵 'age' 是否在字典中\n",
        "key_exists = 'age' in my_dict\n",
        "print(f\"Key 'age' exists in dictionary: {key_exists}\")\n",
        "\n",
        "# 判斷鍵 'city' 是否不在字典中\n",
        "key_not_exists = 'city' not in my_dict\n",
        "print(f\"Key 'city' does not exist in dictionary: {key_not_exists}\")\n",
        "\n",
        "# 回傳由字典建立的迭代器\n",
        "dict_iterator = iter(my_dict)\n",
        "print(f\"Dictionary iterator: {dict_iterator}\")\n",
        "\n",
        "# 回傳字典的配對資料個數\n",
        "dict_length = len(my_dict)\n",
        "print(f\"Number of key-value pairs in dictionary: {dict_length}\")"
      ]
    },
    {
      "cell_type": "markdown",
      "metadata": {
        "id": "uTecbZSISI-2"
      },
      "source": [
        "## 字典物件的⽅法\t(method)"
      ]
    },
    {
      "cell_type": "code",
      "execution_count": null,
      "metadata": {
        "id": "h0KxAvcJSI-2"
      },
      "outputs": [],
      "source": [
        "# 定義一個字典\n",
        "my_dict = {'name': 'John', 'age': 30, 'city': 'New York'}\n",
        "\n",
        "# 清空字典的所有配對資料\n",
        "my_dict.clear()\n",
        "print(f\"Dictionary after clear: {my_dict}\")\n",
        "\n",
        "# 複製字典\n",
        "copied_dict = my_dict.copy()\n",
        "print(f\"Copied dictionary: {copied_dict}\")\n",
        "\n",
        "# 使用 fromkeys 創建新字典\n",
        "seq = ['name', 'age', 'city']\n",
        "new_dict = dict.fromkeys(seq, 'N/A')\n",
        "print(f\"New dictionary from keys: {new_dict}\")\n",
        "\n",
        "# 從字典中取得鍵 'name' 的值，若鍵不存在則回傳 None\n",
        "name_value = my_dict.get('name')\n",
        "print(f\"Value for key 'name': {name_value}\")\n",
        "\n",
        "# 回傳字典 items 物件，使 key:value 儲存為序對\n",
        "items_iterator = my_dict.items()\n",
        "print(f\"Dictionary items iterator: {items_iterator}\")\n",
        "\n",
        "# 回傳字典 keys 物件，使 key 依序儲存其中\n",
        "keys_iterator = my_dict.keys()\n",
        "print(f\"Dictionary keys iterator: {keys_iterator}\")\n",
        "\n",
        "# 將 'age' 的 value 從字典移除，若 'age' 不存在則回傳 0\n",
        "removed_value = my_dict.pop('age', 0)\n",
        "print(f\"Removed value for key 'age': {removed_value}\")\n",
        "print(f\"Dictionary after pop: {my_dict}\")\n",
        "\n",
        "# 從字典移除任意一組 key:value 配對\n",
        "removed_item = my_dict.popitem()\n",
        "print(f\"Removed item: {removed_item}\")\n",
        "print(f\"Dictionary after popitem: {my_dict}\")\n",
        "\n",
        "# 如果 'gender' 在字典中，傳回其 value 值，否則將 'gender':'unknown' 加入字典\n",
        "gender_value = my_dict.setdefault('gender', 'unknown')\n",
        "print(f\"Gender value: {gender_value}\")\n",
        "print(f\"Dictionary after setdefault: {my_dict}\")\n",
        "\n",
        "# 將另一個字典中的配對資料更新到原字典\n",
        "update_dict = {'city': 'Los Angeles', 'occupation': 'Engineer'}\n",
        "my_dict.update(update_dict)\n",
        "print(f\"Updated dictionary: {my_dict}\")\n",
        "\n",
        "# 回傳字典 values 物件，使 value 依序儲存其中\n",
        "values_iterator = my_dict.values()\n",
        "print(f\"Dictionary values iterator: {values_iterator}\")\n"
      ]
    },
    {
      "cell_type": "markdown",
      "metadata": {
        "id": "TKoTIU3TSI-2"
      },
      "source": [
        "# 型態轉換"
      ]
    },
    {
      "cell_type": "code",
      "execution_count": null,
      "metadata": {
        "id": "iiUb0_gDSI-3"
      },
      "outputs": [],
      "source": [
        "# 1. 轉換成整數型態 (int)\n",
        "num_str = \"42\"\n",
        "num_int = int(num_str)\n",
        "print(f\"整數型態轉換結果：{num_int}\")  # 輸出 42\n",
        "\n",
        "# 2. 轉換成浮點數型態 (float)\n",
        "float_str = \"3.14\"\n",
        "float_num = float(float_str)\n",
        "print(f\"浮點數型態轉換結果：{float_num}\")  # 輸出 3.14\n",
        "\n",
        "# 3. 轉換成字串型態 (str)\n",
        "num = 123\n",
        "num_str = str(num)\n",
        "print(f\"字串型態轉換結果：'{num_str}'\")  # 輸出 '123'\n",
        "\n",
        "# 4. 轉換成列表型態 (list)\n",
        "str_example = \"hello\"\n",
        "list_example = list(str_example)\n",
        "print(f\"列表型態轉換結果：{list_example}\")  # 輸出 ['h', 'e', 'l', 'l', 'o']\n",
        "\n",
        "# 5. 轉換成元組型態 (tuple)\n",
        "list_example = [1, 2, 3]\n",
        "tuple_example = tuple(list_example)\n",
        "print(f\"元組型態轉換結果：{tuple_example}\")  # 輸出 (1, 2, 3)\n",
        "\n",
        "# 6. 轉換成布林型態 (bool)\n",
        "num = 0\n",
        "bool_example = bool(num)\n",
        "print(f\"布林型態轉換結果：{bool_example}\")  # 輸出 False"
      ]
    },
    {
      "cell_type": "markdown",
      "metadata": {
        "id": "GFHnNiBXSI-3"
      },
      "source": [
        "# if/else 轉換"
      ]
    },
    {
      "cell_type": "code",
      "execution_count": null,
      "metadata": {
        "id": "54zmR5LbSI-3"
      },
      "outputs": [],
      "source": [
        "#if 範例程式1\n",
        "#判斷 2的10次方是否等於1024\n",
        "\n",
        "if 2**10 == 1024:\n",
        "    print(\"2^10=1024\")"
      ]
    },
    {
      "cell_type": "code",
      "execution_count": null,
      "metadata": {
        "id": "xRCmSlt_SI-3"
      },
      "outputs": [],
      "source": [
        "#判斷輸入的數字是奇數還是偶數\n",
        "\n",
        "num = int(input('Please input a num:'))\n",
        "\n",
        "if num % 2 == 0:\n",
        "    print(num,'是偶數')\n",
        "else:\n",
        "    print(num,'是奇數')"
      ]
    },
    {
      "cell_type": "code",
      "execution_count": null,
      "metadata": {
        "id": "sVRH1B-7SI-3"
      },
      "outputs": [],
      "source": [
        "#輸入兩個數字比大小\n",
        "\n",
        "num1 = int(input('Please input a num1:'))\n",
        "num2 = int(input('Please input a num2:'))\n",
        "\n",
        "if num1 == num2:\n",
        "    print(num1,'等於',num2)\n",
        "elif num1 < num2:\n",
        "    print(num1,'小於',num2)\n",
        "else:\n",
        "    print(num1,'大於',num2)"
      ]
    },
    {
      "cell_type": "markdown",
      "metadata": {
        "id": "ZYqTPW9dSI-3"
      },
      "source": [
        "# 動動腦"
      ]
    },
    {
      "cell_type": "code",
      "execution_count": null,
      "metadata": {
        "id": "yHLklPiFSI-4"
      },
      "outputs": [],
      "source": [
        "# 計算BMI並輸出分級值\n",
        "#\n",
        "# BMI = 體重 (kg) / 身高 (m^2)\n",
        "'''\n",
        "成人的體重分級與標準\n",
        "分   級    身體質量指數\n",
        "體重過輕    BMI ＜ 18.5\n",
        "正常範圍    18.5 ≦ BMI ＜24\n",
        "過   重    24 ≦ BMI ＜ 27\n",
        "輕度肥胖    27 ≦ BMI ＜ 30\n",
        "中度肥胖    30 ≦ BMI ＜ 35\n",
        "重度肥胖    BMI ≧ 35\n",
        "'''\n",
        "\n",
        "height = int(input('Please input a height(cm):'))\n",
        "weight = int(input('Please input a weight(kg):'))\n",
        "\n",
        "BMI = weight / float(height/100)**2\n",
        "\n",
        "print(\"BMI:\",BMI)\n",
        "\n",
        "if BMI < 18.5:\n",
        "    print('體重過輕')\n",
        "elif 18.5 <= BMI < 24:\n",
        "    print('正常範圍')\n",
        "elif 24 <= BMI < 27:\n",
        "    print('過   重')\n",
        "elif 27 <= BMI < 30:\n",
        "    print('輕度肥胖')\n",
        "elif 27 <= BMI < 30:\n",
        "    print('輕度肥胖')\n",
        "elif 30 <= BMI < 35:\n",
        "    print('中度肥胖')\n",
        "else:\n",
        "    print('重度肥胖')"
      ]
    },
    {
      "cell_type": "markdown",
      "metadata": {
        "id": "KTdNzFXLSI-4"
      },
      "source": [
        "# For 迴圈"
      ]
    },
    {
      "cell_type": "code",
      "execution_count": null,
      "metadata": {
        "id": "hDmv27YoSI-4"
      },
      "outputs": [],
      "source": [
        "# 輸入一個數字n，計算1+2+3+...+n的總和為多少?\n",
        "# (for 迴圈版本)\n",
        "\n",
        "n = int(input('Please input n:'))\n",
        "total = 0\n",
        "\n",
        "for i in range(1,n+1):\n",
        "    # total += i  等價於 total = total + i\n",
        "    total += i\n",
        "print('Total is:',total)"
      ]
    },
    {
      "cell_type": "markdown",
      "metadata": {
        "id": "0V8DCbhuSI-4"
      },
      "source": [
        "# 動動腦"
      ]
    },
    {
      "cell_type": "markdown",
      "metadata": {
        "id": "Lkqt1mtRSI-4"
      },
      "source": [
        "# 定義函式"
      ]
    },
    {
      "cell_type": "code",
      "execution_count": null,
      "metadata": {
        "id": "5D4ccBotSI-4"
      },
      "outputs": [],
      "source": [
        "def summation(n):\n",
        "    total = 0\n",
        "    for i in range(1,n+1):\n",
        "        # total += i  等價於 total = total + i\n",
        "        total += i\n",
        "    print('Total is:',total)\n",
        "\n",
        "#函式宣告完之後才能呼叫\n",
        "summation(100)"
      ]
    },
    {
      "cell_type": "code",
      "execution_count": null,
      "metadata": {
        "id": "qj7dUdjrSI-5"
      },
      "outputs": [],
      "source": [
        "#  函數的預設值為可變物件\n",
        "\n",
        "def append_item(item, lis=[]):\n",
        "    lis.append(item)\n",
        "    return lis\n",
        "\n",
        "print(append_item('apple'))\n",
        "print(append_item('orange'))\n",
        "print(append_item('peach'))"
      ]
    },
    {
      "cell_type": "code",
      "execution_count": null,
      "metadata": {
        "id": "qzqMfmg1SI-5"
      },
      "outputs": [],
      "source": [
        "#  全域變數範例\n",
        "#\n",
        "\n",
        "#name 變數宣告在最外層，為全域變數\n",
        "name = \"Tony\"\n",
        "\n",
        "def change_name(n):\n",
        "    global name\n",
        "    name = n\n",
        "    print('In change_name function, name=%s' % name)\n",
        "\n",
        "print('Before change_name function called, name=%s' % name)\n",
        "change_name('John')\n",
        "print('After change_name function called, name=%s' % name)"
      ]
    },
    {
      "cell_type": "markdown",
      "metadata": {
        "id": "ZqmqY68GnYOq"
      },
      "source": [
        "# Numpy"
      ]
    },
    {
      "cell_type": "code",
      "execution_count": null,
      "metadata": {
        "id": "dJ9ujhdTSI-5"
      },
      "outputs": [],
      "source": []
    },
    {
      "cell_type": "markdown",
      "metadata": {
        "id": "BbgneFZPnaE_"
      },
      "source": [
        "## 建立基本陣列"
      ]
    },
    {
      "cell_type": "code",
      "execution_count": null,
      "metadata": {
        "colab": {
          "base_uri": "https://localhost:8080/"
        },
        "id": "lcmD3fm170cF",
        "outputId": "5f208a3b-f11f-497b-dcdf-78254e809c86"
      },
      "outputs": [
        {
          "name": "stdout",
          "output_type": "stream",
          "text": [
            "[1 2 3 4]\n",
            "[5 6 7 8]\n",
            "<class 'numpy.ndarray'> <class 'numpy.ndarray'>\n"
          ]
        }
      ],
      "source": [
        "import numpy as np\n",
        "np1 = np.array([1,2,3,4])\t\t#使用list\n",
        "np2 = np.array((5,6,7,8))\t\t#使用tuple\n",
        "print(np1)\n",
        "print(np2)\n",
        "print(type(np1), type(np2))"
      ]
    },
    {
      "cell_type": "code",
      "execution_count": null,
      "metadata": {
        "colab": {
          "base_uri": "https://localhost:8080/"
        },
        "id": "pgV8eShaCFUT",
        "outputId": "195d6d43-7e13-4433-99f1-68c0dc30e018"
      },
      "outputs": [
        {
          "name": "stdout",
          "output_type": "stream",
          "text": [
            "[ 0  2  4  6  8 10 12 14 16 18 20 22 24 26 28 30]\n"
          ]
        }
      ],
      "source": [
        "import numpy as np\n",
        "na = np.arange(0, 31, 2)\n",
        "print(na)"
      ]
    },
    {
      "cell_type": "code",
      "execution_count": null,
      "metadata": {
        "colab": {
          "base_uri": "https://localhost:8080/"
        },
        "id": "c3EaENHHE-68",
        "outputId": "bcb37601-504b-43de-d234-c5d576e0983b"
      },
      "outputs": [
        {
          "name": "stdout",
          "output_type": "stream",
          "text": [
            "[ 1.  8. 15.]\n"
          ]
        }
      ],
      "source": [
        "import numpy as np\n",
        "na = np.linspace(1, 15, 3)\n",
        "print(na)"
      ]
    },
    {
      "cell_type": "code",
      "execution_count": null,
      "metadata": {
        "colab": {
          "base_uri": "https://localhost:8080/"
        },
        "id": "NEVHcKT8FGdi",
        "outputId": "6400a3c4-b954-4fe8-c65d-0c10ec30620e"
      },
      "outputs": [
        {
          "name": "stdout",
          "output_type": "stream",
          "text": [
            "[0. 0. 0. 0. 0.]\n"
          ]
        }
      ],
      "source": [
        "import numpy as np\n",
        "a = np.zeros((5,))\n",
        "print(a)"
      ]
    },
    {
      "cell_type": "code",
      "execution_count": null,
      "metadata": {
        "colab": {
          "base_uri": "https://localhost:8080/"
        },
        "id": "gvFXvSp9FL-r",
        "outputId": "7c0df196-5bd0-4b12-87eb-17e03f580569"
      },
      "outputs": [
        {
          "name": "stdout",
          "output_type": "stream",
          "text": [
            "[1. 1. 1. 1. 1.]\n"
          ]
        }
      ],
      "source": [
        "import numpy as np\n",
        "b = np.ones((5,))\n",
        "print(b)"
      ]
    },
    {
      "cell_type": "markdown",
      "metadata": {
        "id": "H_vU-jtPnqlA"
      },
      "source": [
        "## 建立多維陣列"
      ]
    },
    {
      "cell_type": "code",
      "execution_count": null,
      "metadata": {
        "colab": {
          "base_uri": "https://localhost:8080/"
        },
        "id": "LcqPM5GSFm6s",
        "outputId": "1513babc-0005-4d12-e7a0-51fc6c450cb1"
      },
      "outputs": [
        {
          "name": "stdout",
          "output_type": "stream",
          "text": [
            "[[ 1  2  3  4  5]\n",
            " [ 6  7  8  9 10]]\n",
            "維度 2\n",
            "形狀 (2, 5)\n",
            "數量 10\n"
          ]
        }
      ],
      "source": [
        "import numpy as np\n",
        "listdata = [[1,2,3,4,5],\n",
        "       [6,7,8,9,10]]\n",
        "na = np.array(listdata)\n",
        "print(na)\n",
        "print('維度', na.ndim)\n",
        "print('形狀', na.shape)\n",
        "print('數量', na.size)"
      ]
    },
    {
      "cell_type": "markdown",
      "metadata": {
        "id": "rV26mTHYnxvR"
      },
      "source": [
        "## 改變陣列形狀：reshape()"
      ]
    },
    {
      "cell_type": "code",
      "execution_count": null,
      "metadata": {
        "colab": {
          "base_uri": "https://localhost:8080/"
        },
        "id": "vBsTMuLoF8QC",
        "outputId": "f392230f-809d-49fb-a2a6-d230d6c41069"
      },
      "outputs": [
        {
          "name": "stdout",
          "output_type": "stream",
          "text": [
            "[ 1  2  3  4  5  6  7  8  9 10 11 12 13 14 15 16]\n",
            "[[ 1  2  3  4]\n",
            " [ 5  6  7  8]\n",
            " [ 9 10 11 12]\n",
            " [13 14 15 16]]\n"
          ]
        }
      ],
      "source": [
        "import numpy as np\n",
        "adata = np.arange(1,17)\n",
        "print(adata)\n",
        "bdata = adata.reshape(4,4)\n",
        "print(bdata)"
      ]
    },
    {
      "cell_type": "markdown",
      "metadata": {
        "id": "RLnj8rOjn2pf"
      },
      "source": [
        "## 一維陣列取值"
      ]
    },
    {
      "cell_type": "code",
      "execution_count": null,
      "metadata": {
        "colab": {
          "base_uri": "https://localhost:8080/"
        },
        "id": "UP54x5eCHTiU",
        "outputId": "e165ee2a-1baa-4411-bc09-41114893dba6"
      },
      "outputs": [
        {
          "name": "stdout",
          "output_type": "stream",
          "text": [
            "[0 1 2 3 4 5]\n",
            "0\n",
            "5\n",
            "[1 2 3 4]\n",
            "[1 3]\n",
            "[5 4 3 2]\n",
            "[0 1 2 3 4 5]\n",
            "[0 1 2]\n",
            "[3 4 5]\n"
          ]
        }
      ],
      "source": [
        "import numpy as np\n",
        "na = np.arange(0,6)\n",
        "print(na)\n",
        "print(na[0])\n",
        "print(na[5])\n",
        "print(na[1:5])\n",
        "print(na[1:5:2])\n",
        "print(na[5:1:-1])\n",
        "print(na[:])\n",
        "print(na[:3])\n",
        "print(na[3:])"
      ]
    },
    {
      "cell_type": "markdown",
      "metadata": {
        "id": "_qmcE7lboBTf"
      },
      "source": [
        "## 多維陣列取值"
      ]
    },
    {
      "cell_type": "code",
      "execution_count": null,
      "metadata": {
        "colab": {
          "base_uri": "https://localhost:8080/"
        },
        "id": "8AiLWZQDMmth",
        "outputId": "56814e1b-f41d-4400-f835-d4b1cbd7d1fa"
      },
      "outputs": [
        {
          "data": {
            "text/plain": [
              "array([[ 1,  2,  3,  4],\n",
              "       [ 5,  6,  7,  8],\n",
              "       [ 9, 10, 11, 12],\n",
              "       [13, 14, 15, 16]])"
            ]
          },
          "execution_count": 9,
          "metadata": {},
          "output_type": "execute_result"
        }
      ],
      "source": [
        "import numpy as np\n",
        "na = np.arange(1, 17).reshape(4, 4)\n",
        "na"
      ]
    },
    {
      "cell_type": "code",
      "execution_count": null,
      "metadata": {
        "colab": {
          "base_uri": "https://localhost:8080/"
        },
        "id": "ytMjWi4aS2lI",
        "outputId": "6d769248-d6e6-4287-c221-7597f1dd04de"
      },
      "outputs": [
        {
          "data": {
            "text/plain": [
              "12"
            ]
          },
          "execution_count": 10,
          "metadata": {},
          "output_type": "execute_result"
        }
      ],
      "source": [
        "na[2, 3]"
      ]
    },
    {
      "cell_type": "code",
      "execution_count": null,
      "metadata": {
        "colab": {
          "base_uri": "https://localhost:8080/"
        },
        "id": "vCOFAr0JNF04",
        "outputId": "a7e2d212-d9c3-411f-ec03-7fc4dee7bd81"
      },
      "outputs": [
        {
          "name": "stdout",
          "output_type": "stream",
          "text": [
            "[6 7]\n",
            "[ 7 11]\n",
            "[[ 6  7]\n",
            " [10 11]]\n",
            "[[ 1  3]\n",
            " [ 9 11]]\n",
            "[ 3  7 11 15]\n",
            "[5 6 7 8]\n",
            "[[ 1  2  3  4]\n",
            " [ 5  6  7  8]\n",
            " [ 9 10 11 12]\n",
            " [13 14 15 16]]\n"
          ]
        }
      ],
      "source": [
        "print(na[1, 1:3])\t\t\t#[6,7]\n",
        "print(na[1:3, 2])\t\t\t#[7,11]\n",
        "print(na[1:3, 1:3])\t\t#[[6,7],[7,11]]\n",
        "print(na[::2, ::2])\t\t#[[1,3],[9,11]]\n",
        "print(na[:, 2])\t\t\t\t#[3,7,11,15]\n",
        "print(na[1, :])\t\t\t\t#[5,6,7,8]\n",
        "print(na[:, :])\t\t\t\t#矩陣全部"
      ]
    },
    {
      "cell_type": "markdown",
      "metadata": {
        "id": "FWTU4QqEoJx_"
      },
      "source": [
        "## 產生隨機資料:np.ramdom()"
      ]
    },
    {
      "cell_type": "code",
      "execution_count": null,
      "metadata": {
        "colab": {
          "base_uri": "https://localhost:8080/"
        },
        "id": "qHZH8mLZOCd4",
        "outputId": "c7a41069-6de6-4d3f-d423-6b172e56e39b"
      },
      "outputs": [
        {
          "name": "stdout",
          "output_type": "stream",
          "text": [
            "1.產生2x3 0~1之間的隨機浮點數\n",
            " [[0.06050003 0.93301425 0.71076991]\n",
            " [0.84010536 0.28689356 0.22762804]]\n",
            "2.產生2x3常態分佈的隨機浮點數\n",
            " [[-1.17077405 -0.59738168 -0.10755275]\n",
            " [ 0.66430635 -0.35948383  0.47755052]]\n",
            "3.產生0~4(不含5)隨機整數\n",
            " 0\n",
            "4.產生2~4(不含5)5個隨機整數\n",
            " [2 2 2 3 4]\n",
            "5.產生3個 0~1之間的隨機浮點數\n",
            " [0.74134004 0.3726241  0.84656695] \n",
            " [0.11238613 0.08427853 0.56516163] \n",
            " [0.93530103 0.4546523  0.89867011]\n"
          ]
        }
      ],
      "source": [
        "import numpy as np\n",
        "print('1.產生2x3 0~1之間的隨機浮點數\\n',\n",
        "      np.random.rand(2,3))\n",
        "print('2.產生2x3常態分佈的隨機浮點數\\n',\n",
        "      np.random.randn(2,3))\n",
        "print('3.產生0~4(不含5)隨機整數\\n',\n",
        "      np.random.randint(5))\n",
        "print('4.產生2~4(不含5)5個隨機整數\\n',\n",
        "      np.random.randint(2,5,[5]))\n",
        "print('5.產生3個 0~1之間的隨機浮點數\\n',\n",
        "      np.random.random(3),'\\n',\n",
        "      np.random.random_sample(3),'\\n',\n",
        "      np.random.sample(3))"
      ]
    },
    {
      "cell_type": "markdown",
      "metadata": {
        "id": "CRbIb1T0oO-D"
      },
      "source": [
        "## Numpy讀取CSV 檔案"
      ]
    },
    {
      "cell_type": "code",
      "execution_count": null,
      "metadata": {
        "colab": {
          "base_uri": "https://localhost:8080/"
        },
        "id": "gIjbQ5htPFN7",
        "outputId": "ceba0b5a-4738-4827-fd90-e5c4d010f7aa"
      },
      "outputs": [
        {
          "name": "stdout",
          "output_type": "stream",
          "text": [
            "(30, 4)\n"
          ]
        }
      ],
      "source": [
        "import numpy as np\n",
        "na = np.genfromtxt('scores.csv', delimiter=',', skip_header=1)\n",
        "print(na.shape)"
      ]
    },
    {
      "cell_type": "markdown",
      "metadata": {
        "id": "ZI64oNPqoUJT"
      },
      "source": [
        "## Numpy陣列運算"
      ]
    },
    {
      "cell_type": "code",
      "execution_count": null,
      "metadata": {
        "colab": {
          "base_uri": "https://localhost:8080/"
        },
        "id": "Tam4N7q5Q81z",
        "outputId": "66068ce6-1fa1-49f0-ecde-0d23932f693a"
      },
      "outputs": [
        {
          "name": "stdout",
          "output_type": "stream",
          "text": [
            "a 陣列內容：\n",
            " [[1 2 3]\n",
            " [4 5 6]\n",
            " [7 8 9]]\n",
            "b 陣列內容：\n",
            " [[10 11 12]\n",
            " [13 14 15]\n",
            " [16 17 18]]\n"
          ]
        }
      ],
      "source": [
        "import numpy as np\n",
        "a = np.arange(1,10).reshape(3,3)\n",
        "b = np.arange(10,19).reshape(3,3)\n",
        "print('a 陣列內容：\\n', a)\n",
        "print('b 陣列內容：\\n', b)"
      ]
    },
    {
      "cell_type": "code",
      "execution_count": null,
      "metadata": {
        "colab": {
          "base_uri": "https://localhost:8080/"
        },
        "id": "_bC1KUfKQ-va",
        "outputId": "0344a4d0-12ab-4309-afbe-0507c367a728"
      },
      "outputs": [
        {
          "name": "stdout",
          "output_type": "stream",
          "text": [
            "a 陣列元素都加值：\n",
            " [[ 2  3  4]\n",
            " [ 5  6  7]\n",
            " [ 8  9 10]]\n"
          ]
        }
      ],
      "source": [
        "print('a 陣列元素都加值：\\n', a + 1)"
      ]
    },
    {
      "cell_type": "code",
      "execution_count": null,
      "metadata": {
        "colab": {
          "base_uri": "https://localhost:8080/"
        },
        "id": "-ESpSr-jRc9k",
        "outputId": "31898cb3-1630-4ab6-e3fd-9c68309ee32b"
      },
      "outputs": [
        {
          "name": "stdout",
          "output_type": "stream",
          "text": [
            "a 陣列元素都平方：\n",
            " [[ 1  4  9]\n",
            " [16 25 36]\n",
            " [49 64 81]]\n"
          ]
        }
      ],
      "source": [
        "print('a 陣列元素都平方：\\n', a ** 2)"
      ]
    },
    {
      "cell_type": "code",
      "execution_count": null,
      "metadata": {
        "colab": {
          "base_uri": "https://localhost:8080/"
        },
        "id": "dhLUrC_IRibe",
        "outputId": "1dad11db-b9a3-44dd-f118-8ddc47c7afcb"
      },
      "outputs": [
        {
          "name": "stdout",
          "output_type": "stream",
          "text": [
            "a 陣列元素加判斷：\n",
            " [[ True  True  True]\n",
            " [ True False False]\n",
            " [False False False]]\n"
          ]
        }
      ],
      "source": [
        "print('a 陣列元素加判斷：\\n', a < 5)"
      ]
    },
    {
      "cell_type": "code",
      "execution_count": null,
      "metadata": {
        "colab": {
          "base_uri": "https://localhost:8080/"
        },
        "id": "k2I44sP9RtDL",
        "outputId": "deba9543-a9f3-4162-d55b-bf80d7f574b7"
      },
      "outputs": [
        {
          "name": "stdout",
          "output_type": "stream",
          "text": [
            "a 陣列取出第一個row都加1：\n",
            " [2 3 4]\n",
            "a 陣列取出第一個col都加1：\n",
            " [2 5 8]\n"
          ]
        }
      ],
      "source": [
        "print('a 陣列取出第一個row都加1：\\n', a[0,:] + 1)\n",
        "print('a 陣列取出第一個col都加1：\\n', a[:,0] + 1)"
      ]
    },
    {
      "cell_type": "code",
      "execution_count": null,
      "metadata": {
        "colab": {
          "base_uri": "https://localhost:8080/"
        },
        "id": "kG6qzPRQRwZ5",
        "outputId": "63691b12-8542-4b7e-9efb-33b1cbe6c182"
      },
      "outputs": [
        {
          "name": "stdout",
          "output_type": "stream",
          "text": [
            "a b 陣列對應元素相加：\n",
            " [[11 13 15]\n",
            " [17 19 21]\n",
            " [23 25 27]]\n",
            "a b 陣列對應元素相乘：\n",
            " [[ 10  22  36]\n",
            " [ 52  70  90]\n",
            " [112 136 162]]\n"
          ]
        }
      ],
      "source": [
        "print('a b 陣列對應元素相加：\\n', a + b)\n",
        "print('a b 陣列對應元素相乘：\\n', a * b)"
      ]
    },
    {
      "cell_type": "code",
      "execution_count": null,
      "metadata": {
        "colab": {
          "base_uri": "https://localhost:8080/"
        },
        "id": "qA0NUwPnR32-",
        "outputId": "1dc71bb4-6a8c-43a5-e785-20df8cf2d8e4"
      },
      "outputs": [
        {
          "name": "stdout",
          "output_type": "stream",
          "text": [
            "a b 陣列內積計算：\n",
            " [[ 84  90  96]\n",
            " [201 216 231]\n",
            " [318 342 366]]\n"
          ]
        }
      ],
      "source": [
        "print('a b 陣列內積計算：\\n', np.dot(a,b))"
      ]
    },
    {
      "cell_type": "markdown",
      "metadata": {
        "id": "U6dL5dueocGR"
      },
      "source": [
        "## Numpy常用的計算及統計函式"
      ]
    },
    {
      "cell_type": "code",
      "execution_count": null,
      "metadata": {
        "colab": {
          "base_uri": "https://localhost:8080/"
        },
        "id": "LEsBIyloR8Wf",
        "outputId": "39da2ce3-8272-471e-8c0f-87f883b82143"
      },
      "outputs": [
        {
          "name": "stdout",
          "output_type": "stream",
          "text": [
            "陣列的內容：\n",
            " [[1 2 3]\n",
            " [4 5 6]\n",
            " [7 8 9]]\n",
            "1.最小值與最大值：\n",
            " 1 9\n",
            "2.每一直行最小值與最大值：\n",
            " [1 2 3] [7 8 9]\n",
            "3.每一橫列最小值與最大值：\n",
            " [1 4 7] [3 6 9]\n",
            "4.加總、乘積及平均值：\n",
            " 45 362880 5.0\n",
            "5.每一直行加總、乘積與平均值：\n",
            " [12 15 18] [ 28  80 162] [4. 5. 6.]\n",
            "6.每一橫列加總、乘積與平均值：\n",
            " [ 6 15 24] [  6 120 504] [2. 5. 8.]\n"
          ]
        }
      ],
      "source": [
        "import numpy as np\n",
        "a = np.arange(1,10).reshape(3,3)\n",
        "print('陣列的內容：\\n', a)\n",
        "print('1.最小值與最大值：\\n',\n",
        "      np.min(a), np.max(a))\n",
        "print('2.每一直行最小值與最大值：\\n',\n",
        "      np.min(a, axis=0), np.max(a, axis=0))\n",
        "print('3.每一橫列最小值與最大值：\\n',\n",
        "      np.min(a, axis=1), np.max(a, axis=1))\n",
        "print('4.加總、乘積及平均值：\\n',\n",
        "      np.sum(a), np.prod(a), np.mean(a))\n",
        "print('5.每一直行加總、乘積與平均值：\\n',\n",
        "      np.sum(a, axis=0), np.prod(a, axis=0), np.mean(a, axis=0))\n",
        "print('6.每一橫列加總、乘積與平均值：\\n',\n",
        "      np.sum(a, axis=1), np.prod(a, axis=1), np.mean(a, axis=1))"
      ]
    },
    {
      "cell_type": "code",
      "execution_count": null,
      "metadata": {
        "colab": {
          "base_uri": "https://localhost:8080/"
        },
        "id": "0F7KVTHrSByH",
        "outputId": "ecaf65ae-378e-4f81-eefc-925384c7fcfd"
      },
      "outputs": [
        {
          "name": "stdout",
          "output_type": "stream",
          "text": [
            "陣列的內容： [56 30  3 80 50 86 70 25 60 46 88 47 10 59  1 72 64 15 92 78 56 44  5  4\n",
            " 51 56 94 30 28 62 31 15 21 76 95 97 16 29 72 45 24 24 30 35 63 88 32 64\n",
            " 40 46]\n",
            "1.標準差： 27.08228203087768\n",
            "2.變異數： 733.45\n",
            "3.中位數： 46.5\n",
            "4.百分比值： 72.80000000000001\n",
            "5.最大最小差值： 96\n"
          ]
        }
      ],
      "source": [
        "import numpy as np\n",
        "a = np.random.randint(100,size=50)\n",
        "print('陣列的內容：', a)\n",
        "print('1.標準差：', np.std(a))\n",
        "print('2.變異數：', np.var(a))\n",
        "print('3.中位數：', np.median(a))\n",
        "print('4.百分比值：', np.percentile(a, 80))\n",
        "print('5.最大最小差值：', np.ptp(a))"
      ]
    },
    {
      "cell_type": "markdown",
      "metadata": {
        "id": "twmSqucSopPA"
      },
      "source": [
        "## Numpy的排序"
      ]
    },
    {
      "cell_type": "code",
      "execution_count": null,
      "metadata": {
        "colab": {
          "base_uri": "https://localhost:8080/"
        },
        "id": "NkgIe_8uTYoh",
        "outputId": "916f12bd-b88e-442e-b02f-487b9e675f37"
      },
      "outputs": [
        {
          "name": "stdout",
          "output_type": "stream",
          "text": [
            "排序前的陣列： [ 6  3 20 25 27 24 17 28 23 29]\n",
            "排序後的陣列： [ 3  6 17 20 23 24 25 27 28 29]\n",
            "排序後的索引： [1 0 6 2 8 5 3 4 7 9]\n",
            "3,6,17,20,23,24,25,27,28,29,"
          ]
        }
      ],
      "source": [
        "import numpy as np\n",
        "a = np.random.choice(50, size=10, replace=False)\n",
        "print('排序前的陣列：', a)\n",
        "print('排序後的陣列：', np.sort(a))\n",
        "print('排序後的索引：', np.argsort(a))\n",
        "#用索引到陣列取值\n",
        "for i in np.argsort(a):\n",
        "    print(a[i], end=',')"
      ]
    },
    {
      "cell_type": "code",
      "execution_count": null,
      "metadata": {
        "colab": {
          "base_uri": "https://localhost:8080/"
        },
        "id": "gig1VsVyTwkA",
        "outputId": "4a545af1-9adc-48b7-b756-86e710b7000d"
      },
      "outputs": [
        {
          "name": "stdout",
          "output_type": "stream",
          "text": [
            "原陣列內容：\n",
            "[[4 7 7 8 0]\n",
            " [8 0 2 2 5]\n",
            " [6 5 1 0 9]]\n",
            "將每一直行進行排序：\n",
            "[[4 0 1 0 0]\n",
            " [6 5 2 2 5]\n",
            " [8 7 7 8 9]]\n",
            "將每一橫列進行排序：\n",
            "[[0 4 7 7 8]\n",
            " [0 2 2 5 8]\n",
            " [0 1 5 6 9]]\n"
          ]
        }
      ],
      "source": [
        "import numpy as np\n",
        "a = np.random.randint(0,10,(3,5))\n",
        "print('原陣列內容：')\n",
        "print(a)\n",
        "print('將每一直行進行排序：')\n",
        "print(np.sort(a, axis=0))\n",
        "print('將每一橫列進行排序：')\n",
        "print(np.sort(a, axis=1))"
      ]
    },
    {
      "cell_type": "markdown",
      "metadata": {
        "id": "LZc2nRVqcfZB"
      },
      "source": [
        "# Pandas"
      ]
    },
    {
      "cell_type": "code",
      "execution_count": null,
      "metadata": {
        "id": "hsiGSqCCcqAT",
        "outputId": "ac4ba136-51bf-4cf5-e1cf-1687d822e7f3"
      },
      "outputs": [
        {
          "name": "stdout",
          "output_type": "stream",
          "text": [
            "Requirement already satisfied: pandas in /usr/local/lib/python3.8/dist-packages (1.5.3)\n",
            "Requirement already satisfied: python-dateutil>=2.8.1 in /usr/local/lib/python3.8/dist-packages (from pandas) (2.8.2)\n",
            "Requirement already satisfied: numpy>=1.20.3 in /usr/local/lib/python3.8/dist-packages (from pandas) (1.23.4)\n",
            "Requirement already satisfied: pytz>=2020.1 in /usr/local/lib/python3.8/dist-packages (from pandas) (2022.7.1)\n",
            "Requirement already satisfied: six>=1.5 in /usr/lib/python3/dist-packages (from python-dateutil>=2.8.1->pandas) (1.14.0)\n",
            "\u001b[33mWARNING: Running pip as the 'root' user can result in broken permissions and conflicting behaviour with the system package manager. It is recommended to use a virtual environment instead: https://pip.pypa.io/warnings/venv\u001b[0m\u001b[33m\n",
            "\u001b[0m"
          ]
        }
      ],
      "source": [
        "!pip install pandas"
      ]
    },
    {
      "cell_type": "markdown",
      "metadata": {
        "id": "lfF4I1hDcjuY"
      },
      "source": [
        "## 建立Series"
      ]
    },
    {
      "cell_type": "code",
      "execution_count": null,
      "metadata": {
        "colab": {
          "base_uri": "https://localhost:8080/"
        },
        "id": "vwyKKNiflxkz",
        "outputId": "34fb90dc-68f1-4c0d-d50b-af679cb16e95"
      },
      "outputs": [
        {
          "name": "stdout",
          "output_type": "stream",
          "text": [
            "0    1\n",
            "1    2\n",
            "2    3\n",
            "3    4\n",
            "4    5\n",
            "dtype: int64\n",
            "[1 2 3 4 5]\n",
            "RangeIndex(start=0, stop=5, step=1)\n"
          ]
        }
      ],
      "source": [
        "import pandas as pd\n",
        "se = pd.Series([1,2,3,4,5])\n",
        "print(se)           #顯示Series\n",
        "print(se.values)    #顯示值\n",
        "print(se.index)     #顯示索引"
      ]
    },
    {
      "cell_type": "code",
      "execution_count": null,
      "metadata": {
        "colab": {
          "base_uri": "https://localhost:8080/"
        },
        "id": "pFotmBMUmK2v",
        "outputId": "85508a2c-0b83-4020-c5df-bbb901d01583"
      },
      "outputs": [
        {
          "name": "stdout",
          "output_type": "stream",
          "text": [
            "Taipei       台北\n",
            "Taichung     台中\n",
            "Kaohsiung    高雄\n",
            "dtype: object\n",
            "['台北' '台中' '高雄']\n",
            "Index(['Taipei', 'Taichung', 'Kaohsiung'], dtype='object')\n",
            "台北\n"
          ]
        }
      ],
      "source": [
        "import pandas as pd\n",
        "dict1 = {'Taipei': '台北', 'Taichung': '台中', 'Kaohsiung': '高雄'}\n",
        "se = pd.Series(dict1)\n",
        "print(se)           #顯示Series\n",
        "print(se.values)    #顯示值\n",
        "print(se.index)     #顯示索引\n",
        "print(se['Taipei']) #用索引取值"
      ]
    },
    {
      "cell_type": "code",
      "execution_count": null,
      "metadata": {
        "colab": {
          "base_uri": "https://localhost:8080/"
        },
        "id": "z75xJcFPdqma",
        "outputId": "03085f65-6167-433d-a469-ecd3a890d091"
      },
      "outputs": [
        {
          "name": "stdout",
          "output_type": "stream",
          "text": [
            "Taichung     台中\n",
            "Kaohsiung    高雄\n",
            "dtype: object\n"
          ]
        }
      ],
      "source": [
        "print(se['Taichung':'Kaohsiung'])"
      ]
    },
    {
      "cell_type": "markdown",
      "metadata": {
        "id": "5UZYHV8FpFnk"
      },
      "source": [
        "## Series資料取值"
      ]
    },
    {
      "cell_type": "code",
      "execution_count": null,
      "metadata": {
        "colab": {
          "base_uri": "https://localhost:8080/"
        },
        "id": "xA75JGvRm-5Z",
        "outputId": "baf34f09-a2ea-4fbf-d358-89cf83398de6"
      },
      "outputs": [
        {
          "data": {
            "text/plain": [
              "3"
            ]
          },
          "execution_count": 29,
          "metadata": {},
          "output_type": "execute_result"
        }
      ],
      "source": [
        "import pandas as pd\n",
        "se = pd.Series([1,2,3,4,5])\n",
        "se[2]"
      ]
    },
    {
      "cell_type": "code",
      "execution_count": null,
      "metadata": {
        "colab": {
          "base_uri": "https://localhost:8080/"
        },
        "id": "5jJ_TmEGEGkX",
        "outputId": "d88b9701-0c98-4c97-f08d-4ea8e3819567"
      },
      "outputs": [
        {
          "data": {
            "text/plain": [
              "2"
            ]
          },
          "execution_count": 30,
          "metadata": {},
          "output_type": "execute_result"
        }
      ],
      "source": [
        "import pandas as pd\n",
        "se = pd.Series([1,2,3,4,5], index=['a','b','c','d','e'])\n",
        "se['b']"
      ]
    },
    {
      "cell_type": "markdown",
      "metadata": {
        "id": "ljFcBkAAfRoK"
      },
      "source": [
        "## 建立DataFrame"
      ]
    },
    {
      "cell_type": "code",
      "execution_count": null,
      "metadata": {
        "colab": {
          "base_uri": "https://localhost:8080/",
          "height": 175
        },
        "id": "Nbt4n7PQFUyQ",
        "outputId": "1d582d96-908a-40bc-da7d-43e2165f5b38"
      },
      "outputs": [
        {
          "data": {
            "text/html": [
              "<div>\n",
              "<style scoped>\n",
              "    .dataframe tbody tr th:only-of-type {\n",
              "        vertical-align: middle;\n",
              "    }\n",
              "\n",
              "    .dataframe tbody tr th {\n",
              "        vertical-align: top;\n",
              "    }\n",
              "\n",
              "    .dataframe thead th {\n",
              "        text-align: right;\n",
              "    }\n",
              "</style>\n",
              "<table border=\"1\" class=\"dataframe\">\n",
              "  <thead>\n",
              "    <tr style=\"text-align: right;\">\n",
              "      <th></th>\n",
              "      <th>0</th>\n",
              "      <th>1</th>\n",
              "      <th>2</th>\n",
              "      <th>3</th>\n",
              "      <th>4</th>\n",
              "    </tr>\n",
              "  </thead>\n",
              "  <tbody>\n",
              "    <tr>\n",
              "      <th>0</th>\n",
              "      <td>65</td>\n",
              "      <td>92</td>\n",
              "      <td>78</td>\n",
              "      <td>83</td>\n",
              "      <td>70</td>\n",
              "    </tr>\n",
              "    <tr>\n",
              "      <th>1</th>\n",
              "      <td>90</td>\n",
              "      <td>72</td>\n",
              "      <td>76</td>\n",
              "      <td>93</td>\n",
              "      <td>56</td>\n",
              "    </tr>\n",
              "    <tr>\n",
              "      <th>2</th>\n",
              "      <td>81</td>\n",
              "      <td>85</td>\n",
              "      <td>91</td>\n",
              "      <td>89</td>\n",
              "      <td>77</td>\n",
              "    </tr>\n",
              "    <tr>\n",
              "      <th>3</th>\n",
              "      <td>79</td>\n",
              "      <td>53</td>\n",
              "      <td>47</td>\n",
              "      <td>94</td>\n",
              "      <td>80</td>\n",
              "    </tr>\n",
              "  </tbody>\n",
              "</table>\n",
              "</div>"
            ],
            "text/plain": [
              "    0   1   2   3   4\n",
              "0  65  92  78  83  70\n",
              "1  90  72  76  93  56\n",
              "2  81  85  91  89  77\n",
              "3  79  53  47  94  80"
            ]
          },
          "execution_count": 31,
          "metadata": {},
          "output_type": "execute_result"
        }
      ],
      "source": [
        "import pandas as pd\n",
        "df = pd.DataFrame([[65,92,78,83,70],\n",
        "                   [90,72,76,93,56],\n",
        "                   [81,85,91,89,77],\n",
        "                   [79,53,47,94,80]])\n",
        "df"
      ]
    },
    {
      "cell_type": "code",
      "execution_count": null,
      "metadata": {
        "colab": {
          "base_uri": "https://localhost:8080/",
          "height": 175
        },
        "id": "Bqph_YxtFKA3",
        "outputId": "c797301e-0d35-4274-a99e-b9ed2be18c47"
      },
      "outputs": [
        {
          "data": {
            "text/html": [
              "<div>\n",
              "<style scoped>\n",
              "    .dataframe tbody tr th:only-of-type {\n",
              "        vertical-align: middle;\n",
              "    }\n",
              "\n",
              "    .dataframe tbody tr th {\n",
              "        vertical-align: top;\n",
              "    }\n",
              "\n",
              "    .dataframe thead th {\n",
              "        text-align: right;\n",
              "    }\n",
              "</style>\n",
              "<table border=\"1\" class=\"dataframe\">\n",
              "  <thead>\n",
              "    <tr style=\"text-align: right;\">\n",
              "      <th></th>\n",
              "      <th>國文</th>\n",
              "      <th>英文</th>\n",
              "      <th>數學</th>\n",
              "      <th>自然</th>\n",
              "      <th>社會</th>\n",
              "    </tr>\n",
              "  </thead>\n",
              "  <tbody>\n",
              "    <tr>\n",
              "      <th>王小明</th>\n",
              "      <td>65</td>\n",
              "      <td>92</td>\n",
              "      <td>78</td>\n",
              "      <td>83</td>\n",
              "      <td>70</td>\n",
              "    </tr>\n",
              "    <tr>\n",
              "      <th>李小美</th>\n",
              "      <td>90</td>\n",
              "      <td>72</td>\n",
              "      <td>76</td>\n",
              "      <td>93</td>\n",
              "      <td>56</td>\n",
              "    </tr>\n",
              "    <tr>\n",
              "      <th>陳大同</th>\n",
              "      <td>81</td>\n",
              "      <td>85</td>\n",
              "      <td>91</td>\n",
              "      <td>89</td>\n",
              "      <td>77</td>\n",
              "    </tr>\n",
              "    <tr>\n",
              "      <th>林小玉</th>\n",
              "      <td>79</td>\n",
              "      <td>53</td>\n",
              "      <td>47</td>\n",
              "      <td>94</td>\n",
              "      <td>80</td>\n",
              "    </tr>\n",
              "  </tbody>\n",
              "</table>\n",
              "</div>"
            ],
            "text/plain": [
              "     國文  英文  數學  自然  社會\n",
              "王小明  65  92  78  83  70\n",
              "李小美  90  72  76  93  56\n",
              "陳大同  81  85  91  89  77\n",
              "林小玉  79  53  47  94  80"
            ]
          },
          "execution_count": 32,
          "metadata": {},
          "output_type": "execute_result"
        }
      ],
      "source": [
        "import pandas as pd\n",
        "df = pd.DataFrame([[65,92,78,83,70],\n",
        "                   [90,72,76,93,56],\n",
        "                   [81,85,91,89,77],\n",
        "                   [79,53,47,94,80]],\n",
        "                   index=['王小明','李小美','陳大同','林小玉'],\n",
        "                   columns=['國文','英文','數學','自然','社會'])\n",
        "df"
      ]
    },
    {
      "cell_type": "markdown",
      "metadata": {
        "id": "4s3dfccvpT7e"
      },
      "source": [
        "## 利用字典建立DataFrame"
      ]
    },
    {
      "cell_type": "code",
      "execution_count": null,
      "metadata": {
        "colab": {
          "base_uri": "https://localhost:8080/",
          "height": 175
        },
        "id": "-WsFEGRiHfUD",
        "outputId": "53084419-0b1f-4b58-c1b0-ae753cbb287c"
      },
      "outputs": [
        {
          "data": {
            "text/html": [
              "<div>\n",
              "<style scoped>\n",
              "    .dataframe tbody tr th:only-of-type {\n",
              "        vertical-align: middle;\n",
              "    }\n",
              "\n",
              "    .dataframe tbody tr th {\n",
              "        vertical-align: top;\n",
              "    }\n",
              "\n",
              "    .dataframe thead th {\n",
              "        text-align: right;\n",
              "    }\n",
              "</style>\n",
              "<table border=\"1\" class=\"dataframe\">\n",
              "  <thead>\n",
              "    <tr style=\"text-align: right;\">\n",
              "      <th></th>\n",
              "      <th>國文</th>\n",
              "      <th>英文</th>\n",
              "      <th>數學</th>\n",
              "      <th>自然</th>\n",
              "      <th>社會</th>\n",
              "    </tr>\n",
              "  </thead>\n",
              "  <tbody>\n",
              "    <tr>\n",
              "      <th>王小明</th>\n",
              "      <td>65</td>\n",
              "      <td>92</td>\n",
              "      <td>78</td>\n",
              "      <td>83</td>\n",
              "      <td>70</td>\n",
              "    </tr>\n",
              "    <tr>\n",
              "      <th>李小美</th>\n",
              "      <td>90</td>\n",
              "      <td>72</td>\n",
              "      <td>76</td>\n",
              "      <td>93</td>\n",
              "      <td>56</td>\n",
              "    </tr>\n",
              "    <tr>\n",
              "      <th>陳大同</th>\n",
              "      <td>81</td>\n",
              "      <td>85</td>\n",
              "      <td>91</td>\n",
              "      <td>89</td>\n",
              "      <td>94</td>\n",
              "    </tr>\n",
              "    <tr>\n",
              "      <th>林小玉</th>\n",
              "      <td>79</td>\n",
              "      <td>53</td>\n",
              "      <td>47</td>\n",
              "      <td>94</td>\n",
              "      <td>80</td>\n",
              "    </tr>\n",
              "  </tbody>\n",
              "</table>\n",
              "</div>"
            ],
            "text/plain": [
              "     國文  英文  數學  自然  社會\n",
              "王小明  65  92  78  83  70\n",
              "李小美  90  72  76  93  56\n",
              "陳大同  81  85  91  89  94\n",
              "林小玉  79  53  47  94  80"
            ]
          },
          "execution_count": 33,
          "metadata": {},
          "output_type": "execute_result"
        }
      ],
      "source": [
        "import pandas as pd\n",
        "scores = {'國文':{'王小明':65,'李小美':90,'陳大同':81,'林小玉':79},\n",
        "          '英文':{'王小明':92,'李小美':72,'陳大同':85,'林小玉':53},\n",
        "          '數學':{'王小明':78,'李小美':76,'陳大同':91,'林小玉':47},\n",
        "          '自然':{'王小明':83,'李小美':93,'陳大同':89,'林小玉':94},\n",
        "          '社會':{'王小明':70,'李小美':56,'陳大同':94,'林小玉':80}}\n",
        "df = pd.DataFrame(scores)\n",
        "df"
      ]
    },
    {
      "cell_type": "markdown",
      "metadata": {
        "id": "yc_dJOwqpYwk"
      },
      "source": [
        "## 利用Series建立DataFrame"
      ]
    },
    {
      "cell_type": "code",
      "execution_count": null,
      "metadata": {
        "colab": {
          "base_uri": "https://localhost:8080/",
          "height": 175
        },
        "id": "Nw3M1bksIMA6",
        "outputId": "af95e32d-4b8b-43f7-f0ef-2dcf5c534ff9"
      },
      "outputs": [
        {
          "data": {
            "text/html": [
              "<div>\n",
              "<style scoped>\n",
              "    .dataframe tbody tr th:only-of-type {\n",
              "        vertical-align: middle;\n",
              "    }\n",
              "\n",
              "    .dataframe tbody tr th {\n",
              "        vertical-align: top;\n",
              "    }\n",
              "\n",
              "    .dataframe thead th {\n",
              "        text-align: right;\n",
              "    }\n",
              "</style>\n",
              "<table border=\"1\" class=\"dataframe\">\n",
              "  <thead>\n",
              "    <tr style=\"text-align: right;\">\n",
              "      <th></th>\n",
              "      <th>國文</th>\n",
              "      <th>英文</th>\n",
              "      <th>數學</th>\n",
              "      <th>自然</th>\n",
              "      <th>社會</th>\n",
              "    </tr>\n",
              "  </thead>\n",
              "  <tbody>\n",
              "    <tr>\n",
              "      <th>王小明</th>\n",
              "      <td>65</td>\n",
              "      <td>92</td>\n",
              "      <td>78</td>\n",
              "      <td>83</td>\n",
              "      <td>70</td>\n",
              "    </tr>\n",
              "    <tr>\n",
              "      <th>李小美</th>\n",
              "      <td>90</td>\n",
              "      <td>72</td>\n",
              "      <td>76</td>\n",
              "      <td>93</td>\n",
              "      <td>56</td>\n",
              "    </tr>\n",
              "    <tr>\n",
              "      <th>陳大同</th>\n",
              "      <td>81</td>\n",
              "      <td>85</td>\n",
              "      <td>91</td>\n",
              "      <td>89</td>\n",
              "      <td>94</td>\n",
              "    </tr>\n",
              "    <tr>\n",
              "      <th>林小玉</th>\n",
              "      <td>79</td>\n",
              "      <td>53</td>\n",
              "      <td>47</td>\n",
              "      <td>94</td>\n",
              "      <td>80</td>\n",
              "    </tr>\n",
              "  </tbody>\n",
              "</table>\n",
              "</div>"
            ],
            "text/plain": [
              "     國文  英文  數學  自然  社會\n",
              "王小明  65  92  78  83  70\n",
              "李小美  90  72  76  93  56\n",
              "陳大同  81  85  91  89  94\n",
              "林小玉  79  53  47  94  80"
            ]
          },
          "execution_count": 34,
          "metadata": {},
          "output_type": "execute_result"
        }
      ],
      "source": [
        "import pandas as pd\n",
        "se1 = pd.Series({'王小明':65,'李小美':90,'陳大同':81,'林小玉':79})\n",
        "se2 = pd.Series({'王小明':92,'李小美':72,'陳大同':85,'林小玉':53})\n",
        "se3 = pd.Series({'王小明':78,'李小美':76,'陳大同':91,'林小玉':47})\n",
        "se4 = pd.Series({'王小明':83,'李小美':93,'陳大同':89,'林小玉':94})\n",
        "se5 = pd.Series({'王小明':70,'李小美':56,'陳大同':94,'林小玉':80})\n",
        "df = pd.DataFrame({ '國文':se1,'英文':se2,'數學':se3,\n",
        "                   '自然':se4,'社會':se5} )\n",
        "df"
      ]
    },
    {
      "cell_type": "code",
      "execution_count": null,
      "metadata": {
        "colab": {
          "base_uri": "https://localhost:8080/",
          "height": 175
        },
        "id": "dFjdiN_rIzKD",
        "outputId": "45e5dff4-25a8-462b-d70a-dc3d6c712ac9"
      },
      "outputs": [
        {
          "data": {
            "text/html": [
              "<div>\n",
              "<style scoped>\n",
              "    .dataframe tbody tr th:only-of-type {\n",
              "        vertical-align: middle;\n",
              "    }\n",
              "\n",
              "    .dataframe tbody tr th {\n",
              "        vertical-align: top;\n",
              "    }\n",
              "\n",
              "    .dataframe thead th {\n",
              "        text-align: right;\n",
              "    }\n",
              "</style>\n",
              "<table border=\"1\" class=\"dataframe\">\n",
              "  <thead>\n",
              "    <tr style=\"text-align: right;\">\n",
              "      <th></th>\n",
              "      <th>國文</th>\n",
              "      <th>英文</th>\n",
              "      <th>數學</th>\n",
              "      <th>自然</th>\n",
              "      <th>社會</th>\n",
              "    </tr>\n",
              "  </thead>\n",
              "  <tbody>\n",
              "    <tr>\n",
              "      <th>王小明</th>\n",
              "      <td>65</td>\n",
              "      <td>92</td>\n",
              "      <td>78</td>\n",
              "      <td>83</td>\n",
              "      <td>70</td>\n",
              "    </tr>\n",
              "    <tr>\n",
              "      <th>李小美</th>\n",
              "      <td>90</td>\n",
              "      <td>72</td>\n",
              "      <td>76</td>\n",
              "      <td>93</td>\n",
              "      <td>56</td>\n",
              "    </tr>\n",
              "    <tr>\n",
              "      <th>陳大同</th>\n",
              "      <td>81</td>\n",
              "      <td>85</td>\n",
              "      <td>91</td>\n",
              "      <td>89</td>\n",
              "      <td>94</td>\n",
              "    </tr>\n",
              "    <tr>\n",
              "      <th>林小玉</th>\n",
              "      <td>79</td>\n",
              "      <td>53</td>\n",
              "      <td>47</td>\n",
              "      <td>94</td>\n",
              "      <td>80</td>\n",
              "    </tr>\n",
              "  </tbody>\n",
              "</table>\n",
              "</div>"
            ],
            "text/plain": [
              "     國文  英文  數學  自然  社會\n",
              "王小明  65  92  78  83  70\n",
              "李小美  90  72  76  93  56\n",
              "陳大同  81  85  91  89  94\n",
              "林小玉  79  53  47  94  80"
            ]
          },
          "execution_count": 35,
          "metadata": {},
          "output_type": "execute_result"
        }
      ],
      "source": [
        "import pandas as pd\n",
        "se1 = pd.Series({'王小明':65,'李小美':90,'陳大同':81,'林小玉':79})\n",
        "se2 = pd.Series({'王小明':92,'李小美':72,'陳大同':85,'林小玉':53})\n",
        "se3 = pd.Series({'王小明':78,'李小美':76,'陳大同':91,'林小玉':47})\n",
        "se4 = pd.Series({'王小明':83,'李小美':93,'陳大同':89,'林小玉':94})\n",
        "se5 = pd.Series({'王小明':70,'李小美':56,'陳大同':94,'林小玉':80})\n",
        "df = pd.concat([se1,se2,se3,se4,se5], axis=1)\n",
        "df.columns=['國文','英文','數學','自然','社會']\n",
        "df"
      ]
    },
    {
      "cell_type": "markdown",
      "metadata": {
        "id": "JgjjwPHHporF"
      },
      "source": [
        "## DataFrame基本取值"
      ]
    },
    {
      "cell_type": "code",
      "execution_count": null,
      "metadata": {
        "colab": {
          "base_uri": "https://localhost:8080/"
        },
        "id": "KmNif7ZPK_dr",
        "outputId": "8fbc64f4-bdf8-4812-9379-8060f87951eb"
      },
      "outputs": [
        {
          "data": {
            "text/plain": [
              "王小明    83\n",
              "李小美    93\n",
              "陳大同    89\n",
              "林小玉    94\n",
              "Name: 自然, dtype: int64"
            ]
          },
          "execution_count": 36,
          "metadata": {},
          "output_type": "execute_result"
        }
      ],
      "source": [
        "df[\"自然\"]"
      ]
    },
    {
      "cell_type": "code",
      "execution_count": null,
      "metadata": {
        "colab": {
          "base_uri": "https://localhost:8080/",
          "height": 175
        },
        "id": "pxTHZmc9LIha",
        "outputId": "cbbc03ff-acf1-441f-db74-bf71badbd800"
      },
      "outputs": [
        {
          "data": {
            "text/html": [
              "<div>\n",
              "<style scoped>\n",
              "    .dataframe tbody tr th:only-of-type {\n",
              "        vertical-align: middle;\n",
              "    }\n",
              "\n",
              "    .dataframe tbody tr th {\n",
              "        vertical-align: top;\n",
              "    }\n",
              "\n",
              "    .dataframe thead th {\n",
              "        text-align: right;\n",
              "    }\n",
              "</style>\n",
              "<table border=\"1\" class=\"dataframe\">\n",
              "  <thead>\n",
              "    <tr style=\"text-align: right;\">\n",
              "      <th></th>\n",
              "      <th>國文</th>\n",
              "      <th>數學</th>\n",
              "      <th>自然</th>\n",
              "    </tr>\n",
              "  </thead>\n",
              "  <tbody>\n",
              "    <tr>\n",
              "      <th>王小明</th>\n",
              "      <td>65</td>\n",
              "      <td>78</td>\n",
              "      <td>83</td>\n",
              "    </tr>\n",
              "    <tr>\n",
              "      <th>李小美</th>\n",
              "      <td>90</td>\n",
              "      <td>76</td>\n",
              "      <td>93</td>\n",
              "    </tr>\n",
              "    <tr>\n",
              "      <th>陳大同</th>\n",
              "      <td>81</td>\n",
              "      <td>91</td>\n",
              "      <td>89</td>\n",
              "    </tr>\n",
              "    <tr>\n",
              "      <th>林小玉</th>\n",
              "      <td>79</td>\n",
              "      <td>47</td>\n",
              "      <td>94</td>\n",
              "    </tr>\n",
              "  </tbody>\n",
              "</table>\n",
              "</div>"
            ],
            "text/plain": [
              "     國文  數學  自然\n",
              "王小明  65  78  83\n",
              "李小美  90  76  93\n",
              "陳大同  81  91  89\n",
              "林小玉  79  47  94"
            ]
          },
          "execution_count": 37,
          "metadata": {},
          "output_type": "execute_result"
        }
      ],
      "source": [
        "df[[\"國文\", \"數學\", \"自然\"]]"
      ]
    },
    {
      "cell_type": "code",
      "execution_count": null,
      "metadata": {
        "colab": {
          "base_uri": "https://localhost:8080/",
          "height": 112
        },
        "id": "P2u1k5pCLRNy",
        "outputId": "98aa5cca-1769-44ae-c080-5e10728903e4"
      },
      "outputs": [
        {
          "data": {
            "text/html": [
              "<div>\n",
              "<style scoped>\n",
              "    .dataframe tbody tr th:only-of-type {\n",
              "        vertical-align: middle;\n",
              "    }\n",
              "\n",
              "    .dataframe tbody tr th {\n",
              "        vertical-align: top;\n",
              "    }\n",
              "\n",
              "    .dataframe thead th {\n",
              "        text-align: right;\n",
              "    }\n",
              "</style>\n",
              "<table border=\"1\" class=\"dataframe\">\n",
              "  <thead>\n",
              "    <tr style=\"text-align: right;\">\n",
              "      <th></th>\n",
              "      <th>國文</th>\n",
              "      <th>英文</th>\n",
              "      <th>數學</th>\n",
              "      <th>自然</th>\n",
              "      <th>社會</th>\n",
              "    </tr>\n",
              "  </thead>\n",
              "  <tbody>\n",
              "    <tr>\n",
              "      <th>李小美</th>\n",
              "      <td>90</td>\n",
              "      <td>72</td>\n",
              "      <td>76</td>\n",
              "      <td>93</td>\n",
              "      <td>56</td>\n",
              "    </tr>\n",
              "    <tr>\n",
              "      <th>陳大同</th>\n",
              "      <td>81</td>\n",
              "      <td>85</td>\n",
              "      <td>91</td>\n",
              "      <td>89</td>\n",
              "      <td>94</td>\n",
              "    </tr>\n",
              "  </tbody>\n",
              "</table>\n",
              "</div>"
            ],
            "text/plain": [
              "     國文  英文  數學  自然  社會\n",
              "李小美  90  72  76  93  56\n",
              "陳大同  81  85  91  89  94"
            ]
          },
          "execution_count": 38,
          "metadata": {},
          "output_type": "execute_result"
        }
      ],
      "source": [
        "df[df[\"國文\"] >= 80]"
      ]
    },
    {
      "cell_type": "code",
      "execution_count": null,
      "metadata": {
        "colab": {
          "base_uri": "https://localhost:8080/"
        },
        "id": "zx-m0HGJMEAA",
        "outputId": "2d491398-5377-4a10-cef3-00281c18cf3e"
      },
      "outputs": [
        {
          "data": {
            "text/plain": [
              "array([[65, 92, 78, 83, 70],\n",
              "       [90, 72, 76, 93, 56],\n",
              "       [81, 85, 91, 89, 94],\n",
              "       [79, 53, 47, 94, 80]])"
            ]
          },
          "execution_count": 39,
          "metadata": {},
          "output_type": "execute_result"
        }
      ],
      "source": [
        "df.values"
      ]
    },
    {
      "cell_type": "code",
      "execution_count": null,
      "metadata": {
        "colab": {
          "base_uri": "https://localhost:8080/"
        },
        "id": "6wSdidkIMJzI",
        "outputId": "c4caa986-e16c-4d14-a0ad-590f9a2fbd35"
      },
      "outputs": [
        {
          "data": {
            "text/plain": [
              "array([90, 72, 76, 93, 56])"
            ]
          },
          "execution_count": 40,
          "metadata": {},
          "output_type": "execute_result"
        }
      ],
      "source": [
        "df.values[1]"
      ]
    },
    {
      "cell_type": "code",
      "execution_count": null,
      "metadata": {
        "colab": {
          "base_uri": "https://localhost:8080/"
        },
        "id": "h5DLSAwSMOSC",
        "outputId": "502f88f5-811a-4d6b-8a67-cf0767d0b679"
      },
      "outputs": [
        {
          "data": {
            "text/plain": [
              "76"
            ]
          },
          "execution_count": 41,
          "metadata": {},
          "output_type": "execute_result"
        }
      ],
      "source": [
        "df.values[1][2]"
      ]
    },
    {
      "cell_type": "markdown",
      "metadata": {
        "id": "68JTdTWUp6Xk"
      },
      "source": [
        "## 以索引及欄位名稱取得資料：df.loc()"
      ]
    },
    {
      "cell_type": "code",
      "execution_count": null,
      "metadata": {
        "colab": {
          "base_uri": "https://localhost:8080/"
        },
        "id": "u09odjqc5f90",
        "outputId": "04b2fa65-06f1-4248-f122-2a50a8fabc21"
      },
      "outputs": [
        {
          "data": {
            "text/plain": [
              "80"
            ]
          },
          "execution_count": 42,
          "metadata": {},
          "output_type": "execute_result"
        }
      ],
      "source": [
        "df.loc[\"林小玉\", \"社會\"]"
      ]
    },
    {
      "cell_type": "code",
      "execution_count": null,
      "metadata": {
        "colab": {
          "base_uri": "https://localhost:8080/"
        },
        "id": "P3T2Pi4U5hpR",
        "outputId": "7bfb02bb-edd5-4028-abe1-023d6462a0ff"
      },
      "outputs": [
        {
          "data": {
            "text/plain": [
              "國文    65\n",
              "社會    70\n",
              "Name: 王小明, dtype: int64"
            ]
          },
          "execution_count": 43,
          "metadata": {},
          "output_type": "execute_result"
        }
      ],
      "source": [
        "df.loc[\"王小明\", [\"國文\",\"社會\"]]"
      ]
    },
    {
      "cell_type": "code",
      "execution_count": null,
      "metadata": {
        "colab": {
          "base_uri": "https://localhost:8080/",
          "height": 112
        },
        "id": "NeYFOXT86N6r",
        "outputId": "d843868a-d8c5-436b-ee8b-0281b4c44d44"
      },
      "outputs": [
        {
          "data": {
            "text/html": [
              "<div>\n",
              "<style scoped>\n",
              "    .dataframe tbody tr th:only-of-type {\n",
              "        vertical-align: middle;\n",
              "    }\n",
              "\n",
              "    .dataframe tbody tr th {\n",
              "        vertical-align: top;\n",
              "    }\n",
              "\n",
              "    .dataframe thead th {\n",
              "        text-align: right;\n",
              "    }\n",
              "</style>\n",
              "<table border=\"1\" class=\"dataframe\">\n",
              "  <thead>\n",
              "    <tr style=\"text-align: right;\">\n",
              "      <th></th>\n",
              "      <th>數學</th>\n",
              "      <th>自然</th>\n",
              "    </tr>\n",
              "  </thead>\n",
              "  <tbody>\n",
              "    <tr>\n",
              "      <th>王小明</th>\n",
              "      <td>78</td>\n",
              "      <td>83</td>\n",
              "    </tr>\n",
              "    <tr>\n",
              "      <th>李小美</th>\n",
              "      <td>76</td>\n",
              "      <td>93</td>\n",
              "    </tr>\n",
              "  </tbody>\n",
              "</table>\n",
              "</div>"
            ],
            "text/plain": [
              "     數學  自然\n",
              "王小明  78  83\n",
              "李小美  76  93"
            ]
          },
          "execution_count": 44,
          "metadata": {},
          "output_type": "execute_result"
        }
      ],
      "source": [
        "df.loc[[\"王小明\", \"李小美\"], [\"數學\", \"自然\"]]"
      ]
    },
    {
      "cell_type": "code",
      "execution_count": null,
      "metadata": {
        "colab": {
          "base_uri": "https://localhost:8080/",
          "height": 143
        },
        "id": "_CQ0_kId6liD",
        "outputId": "45fd2827-c8f0-463a-be7f-3a12f31bc823"
      },
      "outputs": [
        {
          "data": {
            "text/html": [
              "<div>\n",
              "<style scoped>\n",
              "    .dataframe tbody tr th:only-of-type {\n",
              "        vertical-align: middle;\n",
              "    }\n",
              "\n",
              "    .dataframe tbody tr th {\n",
              "        vertical-align: top;\n",
              "    }\n",
              "\n",
              "    .dataframe thead th {\n",
              "        text-align: right;\n",
              "    }\n",
              "</style>\n",
              "<table border=\"1\" class=\"dataframe\">\n",
              "  <thead>\n",
              "    <tr style=\"text-align: right;\">\n",
              "      <th></th>\n",
              "      <th>數學</th>\n",
              "      <th>自然</th>\n",
              "      <th>社會</th>\n",
              "    </tr>\n",
              "  </thead>\n",
              "  <tbody>\n",
              "    <tr>\n",
              "      <th>王小明</th>\n",
              "      <td>78</td>\n",
              "      <td>83</td>\n",
              "      <td>70</td>\n",
              "    </tr>\n",
              "    <tr>\n",
              "      <th>李小美</th>\n",
              "      <td>76</td>\n",
              "      <td>93</td>\n",
              "      <td>56</td>\n",
              "    </tr>\n",
              "    <tr>\n",
              "      <th>陳大同</th>\n",
              "      <td>91</td>\n",
              "      <td>89</td>\n",
              "      <td>94</td>\n",
              "    </tr>\n",
              "  </tbody>\n",
              "</table>\n",
              "</div>"
            ],
            "text/plain": [
              "     數學  自然  社會\n",
              "王小明  78  83  70\n",
              "李小美  76  93  56\n",
              "陳大同  91  89  94"
            ]
          },
          "execution_count": 45,
          "metadata": {},
          "output_type": "execute_result"
        }
      ],
      "source": [
        "df.loc[\"王小明\":\"陳大同\", \"數學\":\"社會\"]"
      ]
    },
    {
      "cell_type": "code",
      "execution_count": null,
      "metadata": {
        "colab": {
          "base_uri": "https://localhost:8080/"
        },
        "id": "9auQDjwD60AC",
        "outputId": "29fab9dc-846d-43c1-8cf8-042ee0632e5c"
      },
      "outputs": [
        {
          "data": {
            "text/plain": [
              "國文    81\n",
              "英文    85\n",
              "數學    91\n",
              "自然    89\n",
              "社會    94\n",
              "Name: 陳大同, dtype: int64"
            ]
          },
          "execution_count": 46,
          "metadata": {},
          "output_type": "execute_result"
        }
      ],
      "source": [
        "df.loc[\"陳大同\", :]"
      ]
    },
    {
      "cell_type": "code",
      "execution_count": null,
      "metadata": {
        "colab": {
          "base_uri": "https://localhost:8080/",
          "height": 112
        },
        "id": "5MuJRRcl7HC7",
        "outputId": "13258d3d-0282-4ef8-c6e3-22dd5280dfd4"
      },
      "outputs": [
        {
          "data": {
            "text/html": [
              "<div>\n",
              "<style scoped>\n",
              "    .dataframe tbody tr th:only-of-type {\n",
              "        vertical-align: middle;\n",
              "    }\n",
              "\n",
              "    .dataframe tbody tr th {\n",
              "        vertical-align: top;\n",
              "    }\n",
              "\n",
              "    .dataframe thead th {\n",
              "        text-align: right;\n",
              "    }\n",
              "</style>\n",
              "<table border=\"1\" class=\"dataframe\">\n",
              "  <thead>\n",
              "    <tr style=\"text-align: right;\">\n",
              "      <th></th>\n",
              "      <th>數學</th>\n",
              "      <th>自然</th>\n",
              "      <th>社會</th>\n",
              "    </tr>\n",
              "  </thead>\n",
              "  <tbody>\n",
              "    <tr>\n",
              "      <th>王小明</th>\n",
              "      <td>78</td>\n",
              "      <td>83</td>\n",
              "      <td>70</td>\n",
              "    </tr>\n",
              "    <tr>\n",
              "      <th>李小美</th>\n",
              "      <td>76</td>\n",
              "      <td>93</td>\n",
              "      <td>56</td>\n",
              "    </tr>\n",
              "  </tbody>\n",
              "</table>\n",
              "</div>"
            ],
            "text/plain": [
              "     數學  自然  社會\n",
              "王小明  78  83  70\n",
              "李小美  76  93  56"
            ]
          },
          "execution_count": 47,
          "metadata": {},
          "output_type": "execute_result"
        }
      ],
      "source": [
        "df.loc[:\"李小美\", \"數學\":\"社會\"]"
      ]
    },
    {
      "cell_type": "code",
      "execution_count": null,
      "metadata": {
        "colab": {
          "base_uri": "https://localhost:8080/",
          "height": 143
        },
        "id": "dYLHcC9s7a78",
        "outputId": "585999f0-227e-40f7-b9a3-800959e0a9f1"
      },
      "outputs": [
        {
          "data": {
            "text/html": [
              "<div>\n",
              "<style scoped>\n",
              "    .dataframe tbody tr th:only-of-type {\n",
              "        vertical-align: middle;\n",
              "    }\n",
              "\n",
              "    .dataframe tbody tr th {\n",
              "        vertical-align: top;\n",
              "    }\n",
              "\n",
              "    .dataframe thead th {\n",
              "        text-align: right;\n",
              "    }\n",
              "</style>\n",
              "<table border=\"1\" class=\"dataframe\">\n",
              "  <thead>\n",
              "    <tr style=\"text-align: right;\">\n",
              "      <th></th>\n",
              "      <th>數學</th>\n",
              "      <th>自然</th>\n",
              "      <th>社會</th>\n",
              "    </tr>\n",
              "  </thead>\n",
              "  <tbody>\n",
              "    <tr>\n",
              "      <th>李小美</th>\n",
              "      <td>76</td>\n",
              "      <td>93</td>\n",
              "      <td>56</td>\n",
              "    </tr>\n",
              "    <tr>\n",
              "      <th>陳大同</th>\n",
              "      <td>91</td>\n",
              "      <td>89</td>\n",
              "      <td>94</td>\n",
              "    </tr>\n",
              "    <tr>\n",
              "      <th>林小玉</th>\n",
              "      <td>47</td>\n",
              "      <td>94</td>\n",
              "      <td>80</td>\n",
              "    </tr>\n",
              "  </tbody>\n",
              "</table>\n",
              "</div>"
            ],
            "text/plain": [
              "     數學  自然  社會\n",
              "李小美  76  93  56\n",
              "陳大同  91  89  94\n",
              "林小玉  47  94  80"
            ]
          },
          "execution_count": 48,
          "metadata": {},
          "output_type": "execute_result"
        }
      ],
      "source": [
        "df.loc[\"李小美\":, \"數學\":\"社會\"]"
      ]
    },
    {
      "cell_type": "markdown",
      "metadata": {
        "id": "l2shhwGHqBk-"
      },
      "source": [
        "## 以索引及欄位編號取得資料：df.iloc()"
      ]
    },
    {
      "cell_type": "code",
      "execution_count": null,
      "metadata": {
        "colab": {
          "base_uri": "https://localhost:8080/"
        },
        "id": "0e4i6UEP7sXj",
        "outputId": "ecfbe9fd-60ec-4299-d581-1e1c0a211330"
      },
      "outputs": [
        {
          "data": {
            "text/plain": [
              "80"
            ]
          },
          "execution_count": 49,
          "metadata": {},
          "output_type": "execute_result"
        }
      ],
      "source": [
        "df.iloc[3, 4]"
      ]
    },
    {
      "cell_type": "code",
      "execution_count": null,
      "metadata": {
        "colab": {
          "base_uri": "https://localhost:8080/"
        },
        "id": "2HGU_P7S75iL",
        "outputId": "c4ae4774-b5cd-41c9-dc04-32c143c21052"
      },
      "outputs": [
        {
          "data": {
            "text/plain": [
              "國文    65\n",
              "社會    70\n",
              "Name: 王小明, dtype: int64"
            ]
          },
          "execution_count": 50,
          "metadata": {},
          "output_type": "execute_result"
        }
      ],
      "source": [
        "df.iloc[0, [0, 4]]"
      ]
    },
    {
      "cell_type": "code",
      "execution_count": null,
      "metadata": {
        "colab": {
          "base_uri": "https://localhost:8080/",
          "height": 112
        },
        "id": "fbICLwHq8Hqf",
        "outputId": "bb6b8e09-76b7-46ff-f8db-3b6a17fdd536"
      },
      "outputs": [
        {
          "data": {
            "text/html": [
              "<div>\n",
              "<style scoped>\n",
              "    .dataframe tbody tr th:only-of-type {\n",
              "        vertical-align: middle;\n",
              "    }\n",
              "\n",
              "    .dataframe tbody tr th {\n",
              "        vertical-align: top;\n",
              "    }\n",
              "\n",
              "    .dataframe thead th {\n",
              "        text-align: right;\n",
              "    }\n",
              "</style>\n",
              "<table border=\"1\" class=\"dataframe\">\n",
              "  <thead>\n",
              "    <tr style=\"text-align: right;\">\n",
              "      <th></th>\n",
              "      <th>數學</th>\n",
              "      <th>自然</th>\n",
              "    </tr>\n",
              "  </thead>\n",
              "  <tbody>\n",
              "    <tr>\n",
              "      <th>王小明</th>\n",
              "      <td>78</td>\n",
              "      <td>83</td>\n",
              "    </tr>\n",
              "    <tr>\n",
              "      <th>李小美</th>\n",
              "      <td>76</td>\n",
              "      <td>93</td>\n",
              "    </tr>\n",
              "  </tbody>\n",
              "</table>\n",
              "</div>"
            ],
            "text/plain": [
              "     數學  自然\n",
              "王小明  78  83\n",
              "李小美  76  93"
            ]
          },
          "execution_count": 51,
          "metadata": {},
          "output_type": "execute_result"
        }
      ],
      "source": [
        "df.iloc[[0, 1], [2, 3]]"
      ]
    },
    {
      "cell_type": "code",
      "execution_count": null,
      "metadata": {
        "colab": {
          "base_uri": "https://localhost:8080/",
          "height": 143
        },
        "id": "HbPlRRxm8XTq",
        "outputId": "169c7393-77fe-4477-902c-e1891dc306b4"
      },
      "outputs": [
        {
          "data": {
            "text/html": [
              "<div>\n",
              "<style scoped>\n",
              "    .dataframe tbody tr th:only-of-type {\n",
              "        vertical-align: middle;\n",
              "    }\n",
              "\n",
              "    .dataframe tbody tr th {\n",
              "        vertical-align: top;\n",
              "    }\n",
              "\n",
              "    .dataframe thead th {\n",
              "        text-align: right;\n",
              "    }\n",
              "</style>\n",
              "<table border=\"1\" class=\"dataframe\">\n",
              "  <thead>\n",
              "    <tr style=\"text-align: right;\">\n",
              "      <th></th>\n",
              "      <th>數學</th>\n",
              "      <th>自然</th>\n",
              "      <th>社會</th>\n",
              "    </tr>\n",
              "  </thead>\n",
              "  <tbody>\n",
              "    <tr>\n",
              "      <th>王小明</th>\n",
              "      <td>78</td>\n",
              "      <td>83</td>\n",
              "      <td>70</td>\n",
              "    </tr>\n",
              "    <tr>\n",
              "      <th>李小美</th>\n",
              "      <td>76</td>\n",
              "      <td>93</td>\n",
              "      <td>56</td>\n",
              "    </tr>\n",
              "    <tr>\n",
              "      <th>陳大同</th>\n",
              "      <td>91</td>\n",
              "      <td>89</td>\n",
              "      <td>94</td>\n",
              "    </tr>\n",
              "  </tbody>\n",
              "</table>\n",
              "</div>"
            ],
            "text/plain": [
              "     數學  自然  社會\n",
              "王小明  78  83  70\n",
              "李小美  76  93  56\n",
              "陳大同  91  89  94"
            ]
          },
          "execution_count": 52,
          "metadata": {},
          "output_type": "execute_result"
        }
      ],
      "source": [
        "df.iloc[0:3, 2:5]"
      ]
    },
    {
      "cell_type": "code",
      "execution_count": null,
      "metadata": {
        "colab": {
          "base_uri": "https://localhost:8080/"
        },
        "id": "jZAnbDAz9HMH",
        "outputId": "abfe057d-eec9-493e-c655-040935aa0644"
      },
      "outputs": [
        {
          "data": {
            "text/plain": [
              "國文    81\n",
              "英文    85\n",
              "數學    91\n",
              "自然    89\n",
              "社會    94\n",
              "Name: 陳大同, dtype: int64"
            ]
          },
          "execution_count": 53,
          "metadata": {},
          "output_type": "execute_result"
        }
      ],
      "source": [
        "df.iloc[2, :]"
      ]
    },
    {
      "cell_type": "code",
      "execution_count": null,
      "metadata": {
        "colab": {
          "base_uri": "https://localhost:8080/",
          "height": 112
        },
        "id": "y7pHtQ6r9Wns",
        "outputId": "29183b31-a2d0-4f70-af01-1565217a8fbd"
      },
      "outputs": [
        {
          "data": {
            "text/html": [
              "<div>\n",
              "<style scoped>\n",
              "    .dataframe tbody tr th:only-of-type {\n",
              "        vertical-align: middle;\n",
              "    }\n",
              "\n",
              "    .dataframe tbody tr th {\n",
              "        vertical-align: top;\n",
              "    }\n",
              "\n",
              "    .dataframe thead th {\n",
              "        text-align: right;\n",
              "    }\n",
              "</style>\n",
              "<table border=\"1\" class=\"dataframe\">\n",
              "  <thead>\n",
              "    <tr style=\"text-align: right;\">\n",
              "      <th></th>\n",
              "      <th>數學</th>\n",
              "      <th>自然</th>\n",
              "      <th>社會</th>\n",
              "    </tr>\n",
              "  </thead>\n",
              "  <tbody>\n",
              "    <tr>\n",
              "      <th>王小明</th>\n",
              "      <td>78</td>\n",
              "      <td>83</td>\n",
              "      <td>70</td>\n",
              "    </tr>\n",
              "    <tr>\n",
              "      <th>李小美</th>\n",
              "      <td>76</td>\n",
              "      <td>93</td>\n",
              "      <td>56</td>\n",
              "    </tr>\n",
              "  </tbody>\n",
              "</table>\n",
              "</div>"
            ],
            "text/plain": [
              "     數學  自然  社會\n",
              "王小明  78  83  70\n",
              "李小美  76  93  56"
            ]
          },
          "execution_count": 54,
          "metadata": {},
          "output_type": "execute_result"
        }
      ],
      "source": [
        "df.iloc[:2, 2:5]"
      ]
    },
    {
      "cell_type": "code",
      "execution_count": null,
      "metadata": {
        "colab": {
          "base_uri": "https://localhost:8080/",
          "height": 143
        },
        "id": "2tHuWtIY9k8s",
        "outputId": "ee3d50a0-ff05-4bf0-e2c2-af78c4eec92a"
      },
      "outputs": [
        {
          "data": {
            "text/html": [
              "<div>\n",
              "<style scoped>\n",
              "    .dataframe tbody tr th:only-of-type {\n",
              "        vertical-align: middle;\n",
              "    }\n",
              "\n",
              "    .dataframe tbody tr th {\n",
              "        vertical-align: top;\n",
              "    }\n",
              "\n",
              "    .dataframe thead th {\n",
              "        text-align: right;\n",
              "    }\n",
              "</style>\n",
              "<table border=\"1\" class=\"dataframe\">\n",
              "  <thead>\n",
              "    <tr style=\"text-align: right;\">\n",
              "      <th></th>\n",
              "      <th>數學</th>\n",
              "      <th>自然</th>\n",
              "      <th>社會</th>\n",
              "    </tr>\n",
              "  </thead>\n",
              "  <tbody>\n",
              "    <tr>\n",
              "      <th>李小美</th>\n",
              "      <td>76</td>\n",
              "      <td>93</td>\n",
              "      <td>56</td>\n",
              "    </tr>\n",
              "    <tr>\n",
              "      <th>陳大同</th>\n",
              "      <td>91</td>\n",
              "      <td>89</td>\n",
              "      <td>94</td>\n",
              "    </tr>\n",
              "    <tr>\n",
              "      <th>林小玉</th>\n",
              "      <td>47</td>\n",
              "      <td>94</td>\n",
              "      <td>80</td>\n",
              "    </tr>\n",
              "  </tbody>\n",
              "</table>\n",
              "</div>"
            ],
            "text/plain": [
              "     數學  自然  社會\n",
              "李小美  76  93  56\n",
              "陳大同  91  89  94\n",
              "林小玉  47  94  80"
            ]
          },
          "execution_count": 55,
          "metadata": {},
          "output_type": "execute_result"
        }
      ],
      "source": [
        "df.iloc[1:, 2:5]"
      ]
    },
    {
      "cell_type": "markdown",
      "metadata": {
        "id": "g9Y5s-g0qHy7"
      },
      "source": [
        "## 取得最前或最後幾列資料"
      ]
    },
    {
      "cell_type": "code",
      "execution_count": null,
      "metadata": {
        "colab": {
          "base_uri": "https://localhost:8080/",
          "height": 112
        },
        "id": "JxMh6oCu99Sb",
        "outputId": "4fdd6520-264e-456c-cf34-9475109e5bfb"
      },
      "outputs": [
        {
          "data": {
            "text/html": [
              "<div>\n",
              "<style scoped>\n",
              "    .dataframe tbody tr th:only-of-type {\n",
              "        vertical-align: middle;\n",
              "    }\n",
              "\n",
              "    .dataframe tbody tr th {\n",
              "        vertical-align: top;\n",
              "    }\n",
              "\n",
              "    .dataframe thead th {\n",
              "        text-align: right;\n",
              "    }\n",
              "</style>\n",
              "<table border=\"1\" class=\"dataframe\">\n",
              "  <thead>\n",
              "    <tr style=\"text-align: right;\">\n",
              "      <th></th>\n",
              "      <th>國文</th>\n",
              "      <th>英文</th>\n",
              "      <th>數學</th>\n",
              "      <th>自然</th>\n",
              "      <th>社會</th>\n",
              "    </tr>\n",
              "  </thead>\n",
              "  <tbody>\n",
              "    <tr>\n",
              "      <th>王小明</th>\n",
              "      <td>65</td>\n",
              "      <td>92</td>\n",
              "      <td>78</td>\n",
              "      <td>83</td>\n",
              "      <td>70</td>\n",
              "    </tr>\n",
              "    <tr>\n",
              "      <th>李小美</th>\n",
              "      <td>90</td>\n",
              "      <td>72</td>\n",
              "      <td>76</td>\n",
              "      <td>93</td>\n",
              "      <td>56</td>\n",
              "    </tr>\n",
              "  </tbody>\n",
              "</table>\n",
              "</div>"
            ],
            "text/plain": [
              "     國文  英文  數學  自然  社會\n",
              "王小明  65  92  78  83  70\n",
              "李小美  90  72  76  93  56"
            ]
          },
          "execution_count": 56,
          "metadata": {},
          "output_type": "execute_result"
        }
      ],
      "source": [
        "df.head(2)"
      ]
    },
    {
      "cell_type": "code",
      "execution_count": null,
      "metadata": {
        "colab": {
          "base_uri": "https://localhost:8080/",
          "height": 112
        },
        "id": "gE2qYtjR9_LC",
        "outputId": "d8167459-e68a-4b95-f5c2-d79e71058082"
      },
      "outputs": [
        {
          "data": {
            "text/html": [
              "<div>\n",
              "<style scoped>\n",
              "    .dataframe tbody tr th:only-of-type {\n",
              "        vertical-align: middle;\n",
              "    }\n",
              "\n",
              "    .dataframe tbody tr th {\n",
              "        vertical-align: top;\n",
              "    }\n",
              "\n",
              "    .dataframe thead th {\n",
              "        text-align: right;\n",
              "    }\n",
              "</style>\n",
              "<table border=\"1\" class=\"dataframe\">\n",
              "  <thead>\n",
              "    <tr style=\"text-align: right;\">\n",
              "      <th></th>\n",
              "      <th>國文</th>\n",
              "      <th>英文</th>\n",
              "      <th>數學</th>\n",
              "      <th>自然</th>\n",
              "      <th>社會</th>\n",
              "    </tr>\n",
              "  </thead>\n",
              "  <tbody>\n",
              "    <tr>\n",
              "      <th>陳大同</th>\n",
              "      <td>81</td>\n",
              "      <td>85</td>\n",
              "      <td>91</td>\n",
              "      <td>89</td>\n",
              "      <td>94</td>\n",
              "    </tr>\n",
              "    <tr>\n",
              "      <th>林小玉</th>\n",
              "      <td>79</td>\n",
              "      <td>53</td>\n",
              "      <td>47</td>\n",
              "      <td>94</td>\n",
              "      <td>80</td>\n",
              "    </tr>\n",
              "  </tbody>\n",
              "</table>\n",
              "</div>"
            ],
            "text/plain": [
              "     國文  英文  數學  自然  社會\n",
              "陳大同  81  85  91  89  94\n",
              "林小玉  79  53  47  94  80"
            ]
          },
          "execution_count": 57,
          "metadata": {},
          "output_type": "execute_result"
        }
      ],
      "source": [
        "df.tail(2)"
      ]
    },
    {
      "cell_type": "markdown",
      "metadata": {
        "id": "AZtlW1tcqMc0"
      },
      "source": [
        "## DataFrame資料排序"
      ]
    },
    {
      "cell_type": "code",
      "execution_count": null,
      "metadata": {
        "colab": {
          "base_uri": "https://localhost:8080/",
          "height": 175
        },
        "id": "8Q1MVHt4-qgz",
        "outputId": "3fae749e-8266-47f8-f77b-95581c0d00f2"
      },
      "outputs": [
        {
          "data": {
            "text/html": [
              "<div>\n",
              "<style scoped>\n",
              "    .dataframe tbody tr th:only-of-type {\n",
              "        vertical-align: middle;\n",
              "    }\n",
              "\n",
              "    .dataframe tbody tr th {\n",
              "        vertical-align: top;\n",
              "    }\n",
              "\n",
              "    .dataframe thead th {\n",
              "        text-align: right;\n",
              "    }\n",
              "</style>\n",
              "<table border=\"1\" class=\"dataframe\">\n",
              "  <thead>\n",
              "    <tr style=\"text-align: right;\">\n",
              "      <th></th>\n",
              "      <th>國文</th>\n",
              "      <th>英文</th>\n",
              "      <th>數學</th>\n",
              "      <th>自然</th>\n",
              "      <th>社會</th>\n",
              "    </tr>\n",
              "  </thead>\n",
              "  <tbody>\n",
              "    <tr>\n",
              "      <th>陳大同</th>\n",
              "      <td>81</td>\n",
              "      <td>85</td>\n",
              "      <td>91</td>\n",
              "      <td>89</td>\n",
              "      <td>94</td>\n",
              "    </tr>\n",
              "    <tr>\n",
              "      <th>王小明</th>\n",
              "      <td>65</td>\n",
              "      <td>92</td>\n",
              "      <td>78</td>\n",
              "      <td>83</td>\n",
              "      <td>70</td>\n",
              "    </tr>\n",
              "    <tr>\n",
              "      <th>李小美</th>\n",
              "      <td>90</td>\n",
              "      <td>72</td>\n",
              "      <td>76</td>\n",
              "      <td>93</td>\n",
              "      <td>56</td>\n",
              "    </tr>\n",
              "    <tr>\n",
              "      <th>林小玉</th>\n",
              "      <td>79</td>\n",
              "      <td>53</td>\n",
              "      <td>47</td>\n",
              "      <td>94</td>\n",
              "      <td>80</td>\n",
              "    </tr>\n",
              "  </tbody>\n",
              "</table>\n",
              "</div>"
            ],
            "text/plain": [
              "     國文  英文  數學  自然  社會\n",
              "陳大同  81  85  91  89  94\n",
              "王小明  65  92  78  83  70\n",
              "李小美  90  72  76  93  56\n",
              "林小玉  79  53  47  94  80"
            ]
          },
          "execution_count": 58,
          "metadata": {},
          "output_type": "execute_result"
        }
      ],
      "source": [
        "df.sort_values(by=\"數學\", ascending=False)"
      ]
    },
    {
      "cell_type": "code",
      "execution_count": null,
      "metadata": {
        "colab": {
          "base_uri": "https://localhost:8080/",
          "height": 175
        },
        "id": "pAI4wki2_rhd",
        "outputId": "2607f69a-0d96-4a7f-fe81-17cf287137a8"
      },
      "outputs": [
        {
          "data": {
            "text/html": [
              "<div>\n",
              "<style scoped>\n",
              "    .dataframe tbody tr th:only-of-type {\n",
              "        vertical-align: middle;\n",
              "    }\n",
              "\n",
              "    .dataframe tbody tr th {\n",
              "        vertical-align: top;\n",
              "    }\n",
              "\n",
              "    .dataframe thead th {\n",
              "        text-align: right;\n",
              "    }\n",
              "</style>\n",
              "<table border=\"1\" class=\"dataframe\">\n",
              "  <thead>\n",
              "    <tr style=\"text-align: right;\">\n",
              "      <th></th>\n",
              "      <th>國文</th>\n",
              "      <th>英文</th>\n",
              "      <th>數學</th>\n",
              "      <th>自然</th>\n",
              "      <th>社會</th>\n",
              "    </tr>\n",
              "  </thead>\n",
              "  <tbody>\n",
              "    <tr>\n",
              "      <th>李小美</th>\n",
              "      <td>90</td>\n",
              "      <td>72</td>\n",
              "      <td>76</td>\n",
              "      <td>93</td>\n",
              "      <td>56</td>\n",
              "    </tr>\n",
              "    <tr>\n",
              "      <th>林小玉</th>\n",
              "      <td>79</td>\n",
              "      <td>53</td>\n",
              "      <td>47</td>\n",
              "      <td>94</td>\n",
              "      <td>80</td>\n",
              "    </tr>\n",
              "    <tr>\n",
              "      <th>王小明</th>\n",
              "      <td>65</td>\n",
              "      <td>92</td>\n",
              "      <td>78</td>\n",
              "      <td>83</td>\n",
              "      <td>70</td>\n",
              "    </tr>\n",
              "    <tr>\n",
              "      <th>陳大同</th>\n",
              "      <td>81</td>\n",
              "      <td>85</td>\n",
              "      <td>91</td>\n",
              "      <td>89</td>\n",
              "      <td>94</td>\n",
              "    </tr>\n",
              "  </tbody>\n",
              "</table>\n",
              "</div>"
            ],
            "text/plain": [
              "     國文  英文  數學  自然  社會\n",
              "李小美  90  72  76  93  56\n",
              "林小玉  79  53  47  94  80\n",
              "王小明  65  92  78  83  70\n",
              "陳大同  81  85  91  89  94"
            ]
          },
          "execution_count": 59,
          "metadata": {},
          "output_type": "execute_result"
        }
      ],
      "source": [
        "df.sort_index(axis=0)"
      ]
    },
    {
      "cell_type": "markdown",
      "metadata": {
        "id": "3f4ttv_hqTJB"
      },
      "source": [
        "## DataFrame資料修改"
      ]
    },
    {
      "cell_type": "code",
      "execution_count": null,
      "metadata": {
        "colab": {
          "base_uri": "https://localhost:8080/",
          "height": 175
        },
        "id": "qvBRo6zvAJTp",
        "outputId": "51022586-fe6a-46f3-e262-9cdfa8c39b41"
      },
      "outputs": [
        {
          "data": {
            "text/html": [
              "<div>\n",
              "<style scoped>\n",
              "    .dataframe tbody tr th:only-of-type {\n",
              "        vertical-align: middle;\n",
              "    }\n",
              "\n",
              "    .dataframe tbody tr th {\n",
              "        vertical-align: top;\n",
              "    }\n",
              "\n",
              "    .dataframe thead th {\n",
              "        text-align: right;\n",
              "    }\n",
              "</style>\n",
              "<table border=\"1\" class=\"dataframe\">\n",
              "  <thead>\n",
              "    <tr style=\"text-align: right;\">\n",
              "      <th></th>\n",
              "      <th>國文</th>\n",
              "      <th>英文</th>\n",
              "      <th>數學</th>\n",
              "      <th>自然</th>\n",
              "      <th>社會</th>\n",
              "    </tr>\n",
              "  </thead>\n",
              "  <tbody>\n",
              "    <tr>\n",
              "      <th>王小明</th>\n",
              "      <td>65</td>\n",
              "      <td>92</td>\n",
              "      <td>90</td>\n",
              "      <td>83</td>\n",
              "      <td>70</td>\n",
              "    </tr>\n",
              "    <tr>\n",
              "      <th>李小美</th>\n",
              "      <td>90</td>\n",
              "      <td>72</td>\n",
              "      <td>76</td>\n",
              "      <td>93</td>\n",
              "      <td>56</td>\n",
              "    </tr>\n",
              "    <tr>\n",
              "      <th>陳大同</th>\n",
              "      <td>81</td>\n",
              "      <td>85</td>\n",
              "      <td>91</td>\n",
              "      <td>89</td>\n",
              "      <td>94</td>\n",
              "    </tr>\n",
              "    <tr>\n",
              "      <th>林小玉</th>\n",
              "      <td>79</td>\n",
              "      <td>53</td>\n",
              "      <td>47</td>\n",
              "      <td>94</td>\n",
              "      <td>80</td>\n",
              "    </tr>\n",
              "  </tbody>\n",
              "</table>\n",
              "</div>"
            ],
            "text/plain": [
              "     國文  英文  數學  自然  社會\n",
              "王小明  65  92  90  83  70\n",
              "李小美  90  72  76  93  56\n",
              "陳大同  81  85  91  89  94\n",
              "林小玉  79  53  47  94  80"
            ]
          },
          "execution_count": 60,
          "metadata": {},
          "output_type": "execute_result"
        }
      ],
      "source": [
        "df.loc[\"王小明\"][\"數學\"] = 90\n",
        "df"
      ]
    },
    {
      "cell_type": "code",
      "execution_count": null,
      "metadata": {
        "colab": {
          "base_uri": "https://localhost:8080/",
          "height": 175
        },
        "id": "As6J2ge3AbbU",
        "outputId": "03c0862d-06b6-4da5-fab5-5e6a6eda4dd1"
      },
      "outputs": [
        {
          "data": {
            "text/html": [
              "<div>\n",
              "<style scoped>\n",
              "    .dataframe tbody tr th:only-of-type {\n",
              "        vertical-align: middle;\n",
              "    }\n",
              "\n",
              "    .dataframe tbody tr th {\n",
              "        vertical-align: top;\n",
              "    }\n",
              "\n",
              "    .dataframe thead th {\n",
              "        text-align: right;\n",
              "    }\n",
              "</style>\n",
              "<table border=\"1\" class=\"dataframe\">\n",
              "  <thead>\n",
              "    <tr style=\"text-align: right;\">\n",
              "      <th></th>\n",
              "      <th>國文</th>\n",
              "      <th>英文</th>\n",
              "      <th>數學</th>\n",
              "      <th>自然</th>\n",
              "      <th>社會</th>\n",
              "    </tr>\n",
              "  </thead>\n",
              "  <tbody>\n",
              "    <tr>\n",
              "      <th>王小明</th>\n",
              "      <td>80</td>\n",
              "      <td>80</td>\n",
              "      <td>80</td>\n",
              "      <td>80</td>\n",
              "      <td>80</td>\n",
              "    </tr>\n",
              "    <tr>\n",
              "      <th>李小美</th>\n",
              "      <td>90</td>\n",
              "      <td>72</td>\n",
              "      <td>76</td>\n",
              "      <td>93</td>\n",
              "      <td>56</td>\n",
              "    </tr>\n",
              "    <tr>\n",
              "      <th>陳大同</th>\n",
              "      <td>81</td>\n",
              "      <td>85</td>\n",
              "      <td>91</td>\n",
              "      <td>89</td>\n",
              "      <td>94</td>\n",
              "    </tr>\n",
              "    <tr>\n",
              "      <th>林小玉</th>\n",
              "      <td>79</td>\n",
              "      <td>53</td>\n",
              "      <td>47</td>\n",
              "      <td>94</td>\n",
              "      <td>80</td>\n",
              "    </tr>\n",
              "  </tbody>\n",
              "</table>\n",
              "</div>"
            ],
            "text/plain": [
              "     國文  英文  數學  自然  社會\n",
              "王小明  80  80  80  80  80\n",
              "李小美  90  72  76  93  56\n",
              "陳大同  81  85  91  89  94\n",
              "林小玉  79  53  47  94  80"
            ]
          },
          "execution_count": 61,
          "metadata": {},
          "output_type": "execute_result"
        }
      ],
      "source": [
        "df.loc[\"王小明\", :] = 80\n",
        "df"
      ]
    },
    {
      "cell_type": "markdown",
      "metadata": {
        "id": "OLa--Ua_qePi"
      },
      "source": [
        "## 刪除DataFrame資料"
      ]
    },
    {
      "cell_type": "code",
      "execution_count": null,
      "metadata": {
        "colab": {
          "base_uri": "https://localhost:8080/",
          "height": 143
        },
        "id": "YUcIGWn-A5sM",
        "outputId": "1f3be7d0-907f-4de2-fa31-2c23cc2e57bf"
      },
      "outputs": [
        {
          "data": {
            "text/html": [
              "<div>\n",
              "<style scoped>\n",
              "    .dataframe tbody tr th:only-of-type {\n",
              "        vertical-align: middle;\n",
              "    }\n",
              "\n",
              "    .dataframe tbody tr th {\n",
              "        vertical-align: top;\n",
              "    }\n",
              "\n",
              "    .dataframe thead th {\n",
              "        text-align: right;\n",
              "    }\n",
              "</style>\n",
              "<table border=\"1\" class=\"dataframe\">\n",
              "  <thead>\n",
              "    <tr style=\"text-align: right;\">\n",
              "      <th></th>\n",
              "      <th>國文</th>\n",
              "      <th>英文</th>\n",
              "      <th>數學</th>\n",
              "      <th>自然</th>\n",
              "      <th>社會</th>\n",
              "    </tr>\n",
              "  </thead>\n",
              "  <tbody>\n",
              "    <tr>\n",
              "      <th>李小美</th>\n",
              "      <td>90</td>\n",
              "      <td>72</td>\n",
              "      <td>76</td>\n",
              "      <td>93</td>\n",
              "      <td>56</td>\n",
              "    </tr>\n",
              "    <tr>\n",
              "      <th>陳大同</th>\n",
              "      <td>81</td>\n",
              "      <td>85</td>\n",
              "      <td>91</td>\n",
              "      <td>89</td>\n",
              "      <td>94</td>\n",
              "    </tr>\n",
              "    <tr>\n",
              "      <th>林小玉</th>\n",
              "      <td>79</td>\n",
              "      <td>53</td>\n",
              "      <td>47</td>\n",
              "      <td>94</td>\n",
              "      <td>80</td>\n",
              "    </tr>\n",
              "  </tbody>\n",
              "</table>\n",
              "</div>"
            ],
            "text/plain": [
              "     國文  英文  數學  自然  社會\n",
              "李小美  90  72  76  93  56\n",
              "陳大同  81  85  91  89  94\n",
              "林小玉  79  53  47  94  80"
            ]
          },
          "execution_count": 62,
          "metadata": {},
          "output_type": "execute_result"
        }
      ],
      "source": [
        "df.drop(\"王小明\")"
      ]
    },
    {
      "cell_type": "code",
      "execution_count": null,
      "metadata": {
        "colab": {
          "base_uri": "https://localhost:8080/",
          "height": 175
        },
        "id": "nmU3XhdhBLsj",
        "outputId": "503a0ad4-33e9-453f-bd09-7558902f7738"
      },
      "outputs": [
        {
          "data": {
            "text/html": [
              "<div>\n",
              "<style scoped>\n",
              "    .dataframe tbody tr th:only-of-type {\n",
              "        vertical-align: middle;\n",
              "    }\n",
              "\n",
              "    .dataframe tbody tr th {\n",
              "        vertical-align: top;\n",
              "    }\n",
              "\n",
              "    .dataframe thead th {\n",
              "        text-align: right;\n",
              "    }\n",
              "</style>\n",
              "<table border=\"1\" class=\"dataframe\">\n",
              "  <thead>\n",
              "    <tr style=\"text-align: right;\">\n",
              "      <th></th>\n",
              "      <th>國文</th>\n",
              "      <th>英文</th>\n",
              "      <th>自然</th>\n",
              "      <th>社會</th>\n",
              "    </tr>\n",
              "  </thead>\n",
              "  <tbody>\n",
              "    <tr>\n",
              "      <th>王小明</th>\n",
              "      <td>80</td>\n",
              "      <td>80</td>\n",
              "      <td>80</td>\n",
              "      <td>80</td>\n",
              "    </tr>\n",
              "    <tr>\n",
              "      <th>李小美</th>\n",
              "      <td>90</td>\n",
              "      <td>72</td>\n",
              "      <td>93</td>\n",
              "      <td>56</td>\n",
              "    </tr>\n",
              "    <tr>\n",
              "      <th>陳大同</th>\n",
              "      <td>81</td>\n",
              "      <td>85</td>\n",
              "      <td>89</td>\n",
              "      <td>94</td>\n",
              "    </tr>\n",
              "    <tr>\n",
              "      <th>林小玉</th>\n",
              "      <td>79</td>\n",
              "      <td>53</td>\n",
              "      <td>94</td>\n",
              "      <td>80</td>\n",
              "    </tr>\n",
              "  </tbody>\n",
              "</table>\n",
              "</div>"
            ],
            "text/plain": [
              "     國文  英文  自然  社會\n",
              "王小明  80  80  80  80\n",
              "李小美  90  72  93  56\n",
              "陳大同  81  85  89  94\n",
              "林小玉  79  53  94  80"
            ]
          },
          "execution_count": 63,
          "metadata": {},
          "output_type": "execute_result"
        }
      ],
      "source": [
        "df.drop(\"數學\", axis=1)"
      ]
    },
    {
      "cell_type": "code",
      "execution_count": null,
      "metadata": {
        "colab": {
          "base_uri": "https://localhost:8080/",
          "height": 175
        },
        "id": "a3naA78TBZ9F",
        "outputId": "3f45bc1e-70d2-46b4-cd2e-6cd7ae989b77"
      },
      "outputs": [
        {
          "data": {
            "text/html": [
              "<div>\n",
              "<style scoped>\n",
              "    .dataframe tbody tr th:only-of-type {\n",
              "        vertical-align: middle;\n",
              "    }\n",
              "\n",
              "    .dataframe tbody tr th {\n",
              "        vertical-align: top;\n",
              "    }\n",
              "\n",
              "    .dataframe thead th {\n",
              "        text-align: right;\n",
              "    }\n",
              "</style>\n",
              "<table border=\"1\" class=\"dataframe\">\n",
              "  <thead>\n",
              "    <tr style=\"text-align: right;\">\n",
              "      <th></th>\n",
              "      <th>國文</th>\n",
              "      <th>英文</th>\n",
              "      <th>社會</th>\n",
              "    </tr>\n",
              "  </thead>\n",
              "  <tbody>\n",
              "    <tr>\n",
              "      <th>王小明</th>\n",
              "      <td>80</td>\n",
              "      <td>80</td>\n",
              "      <td>80</td>\n",
              "    </tr>\n",
              "    <tr>\n",
              "      <th>李小美</th>\n",
              "      <td>90</td>\n",
              "      <td>72</td>\n",
              "      <td>56</td>\n",
              "    </tr>\n",
              "    <tr>\n",
              "      <th>陳大同</th>\n",
              "      <td>81</td>\n",
              "      <td>85</td>\n",
              "      <td>94</td>\n",
              "    </tr>\n",
              "    <tr>\n",
              "      <th>林小玉</th>\n",
              "      <td>79</td>\n",
              "      <td>53</td>\n",
              "      <td>80</td>\n",
              "    </tr>\n",
              "  </tbody>\n",
              "</table>\n",
              "</div>"
            ],
            "text/plain": [
              "     國文  英文  社會\n",
              "王小明  80  80  80\n",
              "李小美  90  72  56\n",
              "陳大同  81  85  94\n",
              "林小玉  79  53  80"
            ]
          },
          "execution_count": 64,
          "metadata": {},
          "output_type": "execute_result"
        }
      ],
      "source": [
        "df.drop([\"數學\", \"自然\"], axis=1)"
      ]
    },
    {
      "cell_type": "code",
      "execution_count": null,
      "metadata": {
        "colab": {
          "base_uri": "https://localhost:8080/",
          "height": 80
        },
        "id": "lA6jg5D_B6Ai",
        "outputId": "106bb182-ec33-4443-b213-19d7f90fafe2"
      },
      "outputs": [
        {
          "data": {
            "text/html": [
              "<div>\n",
              "<style scoped>\n",
              "    .dataframe tbody tr th:only-of-type {\n",
              "        vertical-align: middle;\n",
              "    }\n",
              "\n",
              "    .dataframe tbody tr th {\n",
              "        vertical-align: top;\n",
              "    }\n",
              "\n",
              "    .dataframe thead th {\n",
              "        text-align: right;\n",
              "    }\n",
              "</style>\n",
              "<table border=\"1\" class=\"dataframe\">\n",
              "  <thead>\n",
              "    <tr style=\"text-align: right;\">\n",
              "      <th></th>\n",
              "      <th>國文</th>\n",
              "      <th>英文</th>\n",
              "      <th>數學</th>\n",
              "      <th>自然</th>\n",
              "      <th>社會</th>\n",
              "    </tr>\n",
              "  </thead>\n",
              "  <tbody>\n",
              "    <tr>\n",
              "      <th>王小明</th>\n",
              "      <td>80</td>\n",
              "      <td>80</td>\n",
              "      <td>80</td>\n",
              "      <td>80</td>\n",
              "      <td>80</td>\n",
              "    </tr>\n",
              "  </tbody>\n",
              "</table>\n",
              "</div>"
            ],
            "text/plain": [
              "     國文  英文  數學  自然  社會\n",
              "王小明  80  80  80  80  80"
            ]
          },
          "execution_count": 65,
          "metadata": {},
          "output_type": "execute_result"
        }
      ],
      "source": [
        "df.drop(df.index[1:4])"
      ]
    },
    {
      "cell_type": "code",
      "execution_count": null,
      "metadata": {
        "id": "8oWUl41KCBOj"
      },
      "outputs": [],
      "source": [
        "df.drop(df.columns[1:4], axis=1)"
      ]
    },
    {
      "cell_type": "markdown",
      "metadata": {
        "id": "XoAG3AVzSI_M"
      },
      "source": [
        "# 資料前處理"
      ]
    },
    {
      "cell_type": "code",
      "execution_count": null,
      "metadata": {
        "id": "xnb2SDATSI_M",
        "outputId": "88eab1a8-ff48-480d-e689-ec6dddff97e3"
      },
      "outputs": [
        {
          "ename": "TypeError",
          "evalue": "read_excel() missing 1 required positional argument: 'io'",
          "output_type": "error",
          "traceback": [
            "\u001b[1;31m---------------------------------------------------------------------------\u001b[0m",
            "\u001b[1;31mTypeError\u001b[0m                                 Traceback (most recent call last)",
            "\u001b[1;32m~\\AppData\\Local\\Temp\\ipykernel_25204\\3428499498.py\u001b[0m in \u001b[0;36m<module>\u001b[1;34m\u001b[0m\n\u001b[0;32m      1\u001b[0m \u001b[1;32mimport\u001b[0m \u001b[0mpandas\u001b[0m \u001b[1;32mas\u001b[0m \u001b[0mpd\u001b[0m\u001b[1;33m\u001b[0m\u001b[1;33m\u001b[0m\u001b[0m\n\u001b[0;32m      2\u001b[0m \u001b[1;33m\u001b[0m\u001b[0m\n\u001b[1;32m----> 3\u001b[1;33m \u001b[0mdf\u001b[0m \u001b[1;33m=\u001b[0m \u001b[0mpd\u001b[0m\u001b[1;33m.\u001b[0m\u001b[0mread_excel\u001b[0m\u001b[1;33m(\u001b[0m\u001b[1;33m)\u001b[0m\u001b[1;33m\u001b[0m\u001b[1;33m\u001b[0m\u001b[0m\n\u001b[0m",
            "\u001b[1;32mD:\\Anaconda3\\lib\\site-packages\\pandas\\util\\_decorators.py\u001b[0m in \u001b[0;36mwrapper\u001b[1;34m(*args, **kwargs)\u001b[0m\n\u001b[0;32m    309\u001b[0m                     \u001b[0mstacklevel\u001b[0m\u001b[1;33m=\u001b[0m\u001b[0mstacklevel\u001b[0m\u001b[1;33m,\u001b[0m\u001b[1;33m\u001b[0m\u001b[1;33m\u001b[0m\u001b[0m\n\u001b[0;32m    310\u001b[0m                 )\n\u001b[1;32m--> 311\u001b[1;33m             \u001b[1;32mreturn\u001b[0m \u001b[0mfunc\u001b[0m\u001b[1;33m(\u001b[0m\u001b[1;33m*\u001b[0m\u001b[0margs\u001b[0m\u001b[1;33m,\u001b[0m \u001b[1;33m**\u001b[0m\u001b[0mkwargs\u001b[0m\u001b[1;33m)\u001b[0m\u001b[1;33m\u001b[0m\u001b[1;33m\u001b[0m\u001b[0m\n\u001b[0m\u001b[0;32m    312\u001b[0m \u001b[1;33m\u001b[0m\u001b[0m\n\u001b[0;32m    313\u001b[0m         \u001b[1;32mreturn\u001b[0m \u001b[0mwrapper\u001b[0m\u001b[1;33m\u001b[0m\u001b[1;33m\u001b[0m\u001b[0m\n",
            "\u001b[1;31mTypeError\u001b[0m: read_excel() missing 1 required positional argument: 'io'"
          ]
        }
      ],
      "source": [
        "# 讀取資料\n",
        "import pandas as pd\n",
        "df = pd.read_excel(\"提供資料_學員.xlsx\")"
      ]
    },
    {
      "cell_type": "code",
      "execution_count": null,
      "metadata": {
        "id": "olrmNYPSSI_M"
      },
      "outputs": [],
      "source": [
        "# 查看資料總筆數\n",
        "print(len(df))"
      ]
    },
    {
      "cell_type": "code",
      "execution_count": null,
      "metadata": {
        "id": "-5ThjEnWSI_M"
      },
      "outputs": [],
      "source": [
        "# 查看欄位數量\n",
        "len(df.columns)"
      ]
    },
    {
      "cell_type": "code",
      "execution_count": null,
      "metadata": {
        "id": "NaNjTv0mSI_N"
      },
      "outputs": [],
      "source": [
        "# 查看資料型態\n",
        "data_types = df.dtypes\n",
        "\n",
        "# 印出結果\n",
        "print(data_types)"
      ]
    },
    {
      "cell_type": "code",
      "execution_count": null,
      "metadata": {
        "id": "NHHGbnV5SI_N"
      },
      "outputs": [],
      "source": [
        "#每個欄位的缺失值數量\n",
        "#使用 isnull() 函數結合 sum() 函數\n",
        "# 查看缺失值數量\n",
        "missing_values = df.isnull().sum()\n",
        "\n",
        "# 印出結果\n",
        "print(missing_values)"
      ]
    },
    {
      "cell_type": "markdown",
      "metadata": {
        "id": "yVUyi8kKSI_N"
      },
      "source": [
        "# 清理缺失值\n"
      ]
    },
    {
      "cell_type": "code",
      "execution_count": null,
      "metadata": {
        "id": "NL5kPmq8SI_N"
      },
      "outputs": [],
      "source": [
        "#針對 Survival 欄位找出異常的資料並移除\n",
        "# 移除Survival欄位異常值\n",
        "df = df[df['Survival'].isin([0, 1])]\n",
        "\n",
        "# 印出結果\n",
        "print(\"移除Survival欄位異常值後的資料：\")\n",
        "print(df)"
      ]
    },
    {
      "cell_type": "code",
      "execution_count": null,
      "metadata": {
        "id": "Z6sgKL_PSI_N"
      },
      "outputs": [],
      "source": [
        "#針對 Age 進行篩選，找出年齡在 18 到 80 歲之間的病人\n",
        "filtered_age = df[(df['AGE'] >= 18) & (df['AGE'] <= 80)]\n",
        "\n",
        "# 印出篩選後的結果\n",
        "print(\"篩選後的年齡資料：\")\n",
        "print(filtered_age)"
      ]
    },
    {
      "cell_type": "markdown",
      "metadata": {
        "id": "vv2DJcydSI_N"
      },
      "source": [
        "# 補值"
      ]
    },
    {
      "cell_type": "markdown",
      "metadata": {
        "id": "f45lBkbPSI_N"
      },
      "source": [
        "## 平均值補值（Mean Imputation）：使用該欄位的平均值填補缺失值。"
      ]
    },
    {
      "cell_type": "code",
      "execution_count": null,
      "metadata": {
        "id": "6ehgkRX0SI_O"
      },
      "outputs": [],
      "source": [
        "df[['HR', 'NBPs', 'NBPd', 'T', 'RR', 'SpO2']] = df[['HR', 'NBPs', 'NBPd', 'T', 'RR', 'SpO2']].fillna(df[['HR', 'NBPs', 'NBPd', 'T', 'RR', 'SpO2']].mean())"
      ]
    },
    {
      "cell_type": "markdown",
      "metadata": {
        "id": "sEVaA0P7SI_O"
      },
      "source": [
        "### 中位數補值（Median Imputation）：使用該欄位的中位數填補缺失值。"
      ]
    },
    {
      "cell_type": "code",
      "execution_count": null,
      "metadata": {
        "id": "Rq7qLq28SI_O"
      },
      "outputs": [],
      "source": [
        "df[['HR', 'NBPs', 'NBPd', 'T', 'RR', 'SpO2']] = df[['HR', 'NBPs', 'NBPd', 'T', 'RR', 'SpO2']].fillna(df[['HR', 'NBPs', 'NBPd', 'T', 'RR', 'SpO2']].median())"
      ]
    },
    {
      "cell_type": "markdown",
      "metadata": {
        "id": "WipjcnR8SI_O"
      },
      "source": [
        "### 前後值補值（Forward Fill / Backward Fill）：使用缺失值前面或後面的值填補。"
      ]
    },
    {
      "cell_type": "code",
      "execution_count": null,
      "metadata": {
        "id": "hP_2QoR1SI_O"
      },
      "outputs": [],
      "source": [
        "df[['HR', 'NBPs', 'NBPd', 'T', 'RR', 'SpO2']] = df[['HR', 'NBPs', 'NBPd', 'T', 'RR', 'SpO2']].fillna(method='ffill')  # Forward Fill\n",
        "# 或\n",
        "df[['HR', 'NBPs', 'NBPd', 'T', 'RR', 'SpO2']] = df[['HR', 'NBPs', 'NBPd', 'T', 'RR', 'SpO2']].fillna(method='bfill')  # Backward Fill"
      ]
    },
    {
      "cell_type": "markdown",
      "metadata": {
        "id": "WDkIW0zASI_O"
      },
      "source": [
        "### 插值法補值（Interpolation）：使用相鄰值的插值填補。"
      ]
    },
    {
      "cell_type": "code",
      "execution_count": null,
      "metadata": {
        "id": "SaVR7fu-SI_P"
      },
      "outputs": [],
      "source": [
        "df[['HR', 'NBPs', 'NBPd', 'T', 'RR', 'SpO2']] = df[['HR', 'NBPs', 'NBPd', 'T', 'RR', 'SpO2']].interpolate(method='linear')"
      ]
    },
    {
      "cell_type": "markdown",
      "metadata": {
        "id": "gYlTZ9WuSI_P"
      },
      "source": [
        "### 使用固定範圍的隨機值進行補值\n",
        "### 針對每個欄位生成位於指定範圍內的隨機值，並將這些值填入相應欄位的缺失值位置。\n",
        "### 根據需求調整 lower_bound 和 upper_bound 的值"
      ]
    },
    {
      "cell_type": "code",
      "execution_count": null,
      "metadata": {
        "id": "_S0G0dJaSI_P"
      },
      "outputs": [],
      "source": [
        "import numpy as np\n",
        "\n",
        "# 定義補值的範圍\n",
        "lower_bound = 50  # 你的下限\n",
        "upper_bound = 100  # 你的上限\n",
        "\n",
        "# 針對 HR、NBPs、NBPd、T、RR、SpO2 欄位進行補值\n",
        "columns_to_impute = ['HR', 'NBPs', 'NBPd', 'T', 'RR', 'SpO2']\n",
        "\n",
        "for column in columns_to_impute:\n",
        "    # 產生隨機值\n",
        "    random_values = np.random.uniform(lower_bound, upper_bound, size=df[column].isnull().sum())\n",
        "\n",
        "    # 將隨機值填入缺失值的位置\n",
        "    df.loc[df[column].isnull(), column] = random_values"
      ]
    },
    {
      "cell_type": "markdown",
      "metadata": {
        "id": "zOPk1RVeSI_P"
      },
      "source": [
        "### df['Sex']的資料型態是字串或類別型態"
      ]
    },
    {
      "cell_type": "code",
      "execution_count": null,
      "metadata": {
        "id": "KYZuHRN5SI_P"
      },
      "outputs": [],
      "source": [
        "# 將性別欄位中的M轉換為0，F轉換為1\n",
        "df['Sex'] = df['Sex'].map({'M': 0, 'F': 1})"
      ]
    },
    {
      "cell_type": "markdown",
      "metadata": {
        "id": "kLlC3V9wSI_Q"
      },
      "source": [
        "## 混合格式欄位處理"
      ]
    },
    {
      "cell_type": "code",
      "execution_count": null,
      "metadata": {
        "id": "xq2jIHVTSI_Q"
      },
      "outputs": [],
      "source": [
        "#使用pd.to_numeric函式將\"Sugar\"欄位轉換為數值，同時將無法轉換的非數值部分替換為NaN\n",
        "# 將非數值的值取代為NaN\n",
        "df['Sugar'] = pd.to_numeric(df['Sugar'], errors='coerce')\n",
        "\n",
        "# 印出處理後的資料\n",
        "print(\"\\n排除非數值的欄位後:\")\n",
        "print(df)"
      ]
    },
    {
      "cell_type": "markdown",
      "metadata": {
        "id": "2r830Jj5SI_Q"
      },
      "source": [
        "## 資料轉換 Data Transformation"
      ]
    },
    {
      "cell_type": "code",
      "execution_count": null,
      "metadata": {
        "id": "K2DGTsOzSI_Q"
      },
      "outputs": [],
      "source": [
        "# 資料轉換示例：使用PCA進行降維\n",
        "from sklearn.decomposition import PCA\n",
        "\n",
        "# 假設df是包含原始資料的DataFrame\n",
        "features = df[['Sugar', 'WBC']]\n",
        "\n",
        "# 初始化PCA模型，指定要降至的維度\n",
        "pca = PCA(n_components=2)\n",
        "\n",
        "# 將原始資料轉換成降維後的資料\n",
        "transformed_data = pca.fit_transform(features)\n",
        "\n",
        "# 將降維後的資料加入原始DataFrame\n",
        "df[['PCA1', 'PCA2']] = transformed_data"
      ]
    },
    {
      "cell_type": "markdown",
      "metadata": {
        "id": "ap7FNSwuSI_Q"
      },
      "source": [
        "# 減少資料量 Data Reduction"
      ]
    },
    {
      "cell_type": "code",
      "execution_count": null,
      "metadata": {
        "id": "LX2f3-SwSI_R"
      },
      "outputs": [],
      "source": [
        "# 減少資料量示例：使用隨機抽樣\n",
        "# 假設df是包含原始資料的DataFrame\n",
        "sampled_data = df.sample(frac=0.5, random_state=42)"
      ]
    },
    {
      "cell_type": "markdown",
      "metadata": {
        "id": "RHyVIM9XSI_R"
      },
      "source": [
        "# 資料離散化 Data Discretization"
      ]
    },
    {
      "cell_type": "code",
      "execution_count": null,
      "metadata": {
        "id": "jjPHbSzfSI_R"
      },
      "outputs": [],
      "source": [
        "# 資料離散化示例：使用pandas的cut函式\n",
        "# 假設df是包含原始資料的DataFrame\n",
        "df['discretized_feature'] = pd.cut(df['Sugar'], bins=5, labels=False)"
      ]
    },
    {
      "cell_type": "markdown",
      "metadata": {
        "id": "VkFyEBykSI_R"
      },
      "source": [
        "# 清理文本並將其轉換為數值"
      ]
    },
    {
      "cell_type": "code",
      "execution_count": null,
      "metadata": {
        "id": "vcif0yj3SI_R"
      },
      "outputs": [],
      "source": [
        "# 假設df是包含原始資料的DataFrame\n",
        "# 假設\"Sugar\"欄位中包含非數值字元，我們要先清理這些字元\n",
        "df['Sugar'] = df['Sugar'].replace('[^\\d.]', '', regex=True)\n",
        "\n",
        "# 使用pd.to_numeric將清理後的\"Sugar\"欄位轉換為數值\n",
        "df['Sugar'] = pd.to_numeric(df['Sugar'], errors='coerce')"
      ]
    },
    {
      "cell_type": "code",
      "execution_count": null,
      "metadata": {
        "id": "TUh7tvZ7SI_S"
      },
      "outputs": [],
      "source": [
        "## df['婚姻'].unique()"
      ]
    }
  ],
  "metadata": {
    "colab": {
      "provenance": [],
      "toc_visible": true,
      "include_colab_link": true
    },
    "kernelspec": {
      "display_name": "Python 3 (ipykernel)",
      "language": "python",
      "name": "python3"
    },
    "language_info": {
      "codemirror_mode": {
        "name": "ipython",
        "version": 3
      },
      "file_extension": ".py",
      "mimetype": "text/x-python",
      "name": "python",
      "nbconvert_exporter": "python",
      "pygments_lexer": "ipython3",
      "version": "3.9.18"
    }
  },
  "nbformat": 4,
  "nbformat_minor": 0
}