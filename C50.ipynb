{
  "nbformat": 4,
  "nbformat_minor": 0,
  "metadata": {
    "colab": {
      "provenance": [],
      "authorship_tag": "ABX9TyP2XtX0yHqH1OmAck0fqVJZ",
      "include_colab_link": true
    },
    "kernelspec": {
      "name": "python3",
      "display_name": "Python 3"
    },
    "language_info": {
      "name": "python"
    }
  },
  "cells": [
    {
      "cell_type": "markdown",
      "metadata": {
        "id": "view-in-github",
        "colab_type": "text"
      },
      "source": [
        "<a href=\"https://colab.research.google.com/github/DengChiung/kmuh20231206/blob/main/C50.ipynb\" target=\"_parent\"><img src=\"https://colab.research.google.com/assets/colab-badge.svg\" alt=\"Open In Colab\"/></a>"
      ]
    },
    {
      "cell_type": "code",
      "execution_count": null,
      "metadata": {
        "id": "iCuERklA64Ef"
      },
      "outputs": [],
      "source": [
        "# import NUMPY package for arrays\n",
        "import numpy as np\n",
        "\n",
        "# import MATPLOTLIB.PYPLOT for plotting our result\n",
        "import matplotlib.pyplot as plt\n",
        "\n",
        "# import pandas for importing CSV files\n",
        "import pandas as pd\n",
        "\n",
        "# import Decision tree regressor from SKLEARN\n",
        "from sklearn.tree import DecisionTreeRegressor\n",
        "\n",
        "\n",
        "# import export_graphviz from SKLEARN for visualizing tree\n",
        "from sklearn.tree import export_graphviz"
      ]
    },
    {
      "cell_type": "code",
      "source": [
        "# Import the dataset from your local storage\n",
        "# dataframe = pd.read_csv('Data.csv')\n",
        "# here Data.csv is the file containing the data for prediction\n",
        "# here 0--> unhealthy\n",
        "#1-->moderate\n",
        "#2-->good\n",
        "df = pd.DataFrame(\n",
        "[\n",
        "    [26, 47, 18, 32, 0.42, 11, 36, '2'],\n",
        "    [31, 60, 23, 38, 0.48, 14, 42, '1'],\n",
        "    [29, 62, 38, 55, 0.55, 21, 29, '0'],\n",
        "    [24, 52, 14, 28, 0.38, 10, 40, '2'],\n",
        "    [30, 58, 21, 36, 0.47, 13, 38, '1'],\n",
        "    [32, 63, 42, 58, 0.58, 24, 27, '0'],\n",
        "    [27, 49, 20, 35, 0.45, 12, 37, '1'],\n",
        "    [29, 55, 24, 40, 0.49, 15, 41, '1'],\n",
        "    [30, 60, 36, 52, 0.56, 19, 32, '0'],\n",
        "    [25, 50, 17, 31, 0.41, 11, 39, '2']\n",
        "],columns=[\"Temperature\",\"Humidity\",\"PM2.5\",\"PM10\",\"CO\",\"NO2\",\"O3\",\"AQI_Category\"])\n",
        "\n",
        "# print the dataset\n",
        "print(df)"
      ],
      "metadata": {
        "colab": {
          "base_uri": "https://localhost:8080/"
        },
        "id": "Hu844Soj7G63",
        "outputId": "1adef20b-0729-45d8-8a60-8c2875c39d95"
      },
      "execution_count": null,
      "outputs": [
        {
          "output_type": "stream",
          "name": "stdout",
          "text": [
            "   Temperature  Humidity  PM2.5  PM10    CO  NO2  O3 AQI_Category\n",
            "0           26        47     18    32  0.42   11  36            2\n",
            "1           31        60     23    38  0.48   14  42            1\n",
            "2           29        62     38    55  0.55   21  29            0\n",
            "3           24        52     14    28  0.38   10  40            2\n",
            "4           30        58     21    36  0.47   13  38            1\n",
            "5           32        63     42    58  0.58   24  27            0\n",
            "6           27        49     20    35  0.45   12  37            1\n",
            "7           29        55     24    40  0.49   15  41            1\n",
            "8           30        60     36    52  0.56   19  32            0\n",
            "9           25        50     17    31  0.41   11  39            2\n"
          ]
        }
      ]
    },
    {
      "cell_type": "code",
      "source": [
        "# select all rows using iloc\n",
        "# which selects a row by its index location\n",
        "# where all rows are selected using: and columns 0-7\n",
        "# by 0:7 representing features\n",
        "\n",
        "X = df.iloc[:,0:7].values.astype(float)\n",
        "# print X\n",
        "print(X)"
      ],
      "metadata": {
        "colab": {
          "base_uri": "https://localhost:8080/"
        },
        "id": "7k_WJogq7Led",
        "outputId": "49783764-1539-46c1-a75b-b1880d6124c5"
      },
      "execution_count": null,
      "outputs": [
        {
          "output_type": "stream",
          "name": "stdout",
          "text": [
            "[[26.   47.   18.   32.    0.42 11.   36.  ]\n",
            " [31.   60.   23.   38.    0.48 14.   42.  ]\n",
            " [29.   62.   38.   55.    0.55 21.   29.  ]\n",
            " [24.   52.   14.   28.    0.38 10.   40.  ]\n",
            " [30.   58.   21.   36.    0.47 13.   38.  ]\n",
            " [32.   63.   42.   58.    0.58 24.   27.  ]\n",
            " [27.   49.   20.   35.    0.45 12.   37.  ]\n",
            " [29.   55.   24.   40.    0.49 15.   41.  ]\n",
            " [30.   60.   36.   52.    0.56 19.   32.  ]\n",
            " [25.   50.   17.   31.    0.41 11.   39.  ]]\n"
          ]
        }
      ]
    },
    {
      "cell_type": "code",
      "source": [
        "# Similarly using iloc\n",
        "# select all rows by using : and column 47\n",
        "# by 7 to Y representing labels\n",
        "y = df.iloc[:, 7].values.astype(int)\n",
        "\n",
        "# print y\n",
        "print(y)"
      ],
      "metadata": {
        "colab": {
          "base_uri": "https://localhost:8080/"
        },
        "id": "VM0DvnyP7RlF",
        "outputId": "0de697d6-d99e-47d7-da54-f9fe1020a876"
      },
      "execution_count": null,
      "outputs": [
        {
          "output_type": "stream",
          "name": "stdout",
          "text": [
            "[2 1 0 2 1 0 1 1 0 2]\n"
          ]
        }
      ]
    },
    {
      "cell_type": "code",
      "source": [
        "# import the Classifier\n",
        "from sklearn.tree import DecisionTreeClassifier\n",
        "\n",
        "# create a Classifier object\n",
        "# use criterion=\"entropy\" for C5.0\n",
        "#with appropriate minimum sample leaf size\n",
        "# and maximum leaf node size\n",
        "classify = DecisionTreeClassifier(criterion=\"entropy\",min_samples_leaf=1,max_leaf_nodes=10)\n",
        "\n",
        "# fit the regressor with X and Y data\n",
        "classify.fit(X, y)"
      ],
      "metadata": {
        "colab": {
          "base_uri": "https://localhost:8080/",
          "height": 75
        },
        "id": "AoayTSLl7TJc",
        "outputId": "b52f614f-6ff6-47bc-e4aa-c273f6e2ddc4"
      },
      "execution_count": null,
      "outputs": [
        {
          "output_type": "execute_result",
          "data": {
            "text/plain": [
              "DecisionTreeClassifier(criterion='entropy', max_leaf_nodes=10)"
            ],
            "text/html": [
              "<style>#sk-container-id-1 {color: black;background-color: white;}#sk-container-id-1 pre{padding: 0;}#sk-container-id-1 div.sk-toggleable {background-color: white;}#sk-container-id-1 label.sk-toggleable__label {cursor: pointer;display: block;width: 100%;margin-bottom: 0;padding: 0.3em;box-sizing: border-box;text-align: center;}#sk-container-id-1 label.sk-toggleable__label-arrow:before {content: \"▸\";float: left;margin-right: 0.25em;color: #696969;}#sk-container-id-1 label.sk-toggleable__label-arrow:hover:before {color: black;}#sk-container-id-1 div.sk-estimator:hover label.sk-toggleable__label-arrow:before {color: black;}#sk-container-id-1 div.sk-toggleable__content {max-height: 0;max-width: 0;overflow: hidden;text-align: left;background-color: #f0f8ff;}#sk-container-id-1 div.sk-toggleable__content pre {margin: 0.2em;color: black;border-radius: 0.25em;background-color: #f0f8ff;}#sk-container-id-1 input.sk-toggleable__control:checked~div.sk-toggleable__content {max-height: 200px;max-width: 100%;overflow: auto;}#sk-container-id-1 input.sk-toggleable__control:checked~label.sk-toggleable__label-arrow:before {content: \"▾\";}#sk-container-id-1 div.sk-estimator input.sk-toggleable__control:checked~label.sk-toggleable__label {background-color: #d4ebff;}#sk-container-id-1 div.sk-label input.sk-toggleable__control:checked~label.sk-toggleable__label {background-color: #d4ebff;}#sk-container-id-1 input.sk-hidden--visually {border: 0;clip: rect(1px 1px 1px 1px);clip: rect(1px, 1px, 1px, 1px);height: 1px;margin: -1px;overflow: hidden;padding: 0;position: absolute;width: 1px;}#sk-container-id-1 div.sk-estimator {font-family: monospace;background-color: #f0f8ff;border: 1px dotted black;border-radius: 0.25em;box-sizing: border-box;margin-bottom: 0.5em;}#sk-container-id-1 div.sk-estimator:hover {background-color: #d4ebff;}#sk-container-id-1 div.sk-parallel-item::after {content: \"\";width: 100%;border-bottom: 1px solid gray;flex-grow: 1;}#sk-container-id-1 div.sk-label:hover label.sk-toggleable__label {background-color: #d4ebff;}#sk-container-id-1 div.sk-serial::before {content: \"\";position: absolute;border-left: 1px solid gray;box-sizing: border-box;top: 0;bottom: 0;left: 50%;z-index: 0;}#sk-container-id-1 div.sk-serial {display: flex;flex-direction: column;align-items: center;background-color: white;padding-right: 0.2em;padding-left: 0.2em;position: relative;}#sk-container-id-1 div.sk-item {position: relative;z-index: 1;}#sk-container-id-1 div.sk-parallel {display: flex;align-items: stretch;justify-content: center;background-color: white;position: relative;}#sk-container-id-1 div.sk-item::before, #sk-container-id-1 div.sk-parallel-item::before {content: \"\";position: absolute;border-left: 1px solid gray;box-sizing: border-box;top: 0;bottom: 0;left: 50%;z-index: -1;}#sk-container-id-1 div.sk-parallel-item {display: flex;flex-direction: column;z-index: 1;position: relative;background-color: white;}#sk-container-id-1 div.sk-parallel-item:first-child::after {align-self: flex-end;width: 50%;}#sk-container-id-1 div.sk-parallel-item:last-child::after {align-self: flex-start;width: 50%;}#sk-container-id-1 div.sk-parallel-item:only-child::after {width: 0;}#sk-container-id-1 div.sk-dashed-wrapped {border: 1px dashed gray;margin: 0 0.4em 0.5em 0.4em;box-sizing: border-box;padding-bottom: 0.4em;background-color: white;}#sk-container-id-1 div.sk-label label {font-family: monospace;font-weight: bold;display: inline-block;line-height: 1.2em;}#sk-container-id-1 div.sk-label-container {text-align: center;}#sk-container-id-1 div.sk-container {/* jupyter's `normalize.less` sets `[hidden] { display: none; }` but bootstrap.min.css set `[hidden] { display: none !important; }` so we also need the `!important` here to be able to override the default hidden behavior on the sphinx rendered scikit-learn.org. See: https://github.com/scikit-learn/scikit-learn/issues/21755 */display: inline-block !important;position: relative;}#sk-container-id-1 div.sk-text-repr-fallback {display: none;}</style><div id=\"sk-container-id-1\" class=\"sk-top-container\"><div class=\"sk-text-repr-fallback\"><pre>DecisionTreeClassifier(criterion=&#x27;entropy&#x27;, max_leaf_nodes=10)</pre><b>In a Jupyter environment, please rerun this cell to show the HTML representation or trust the notebook. <br />On GitHub, the HTML representation is unable to render, please try loading this page with nbviewer.org.</b></div><div class=\"sk-container\" hidden><div class=\"sk-item\"><div class=\"sk-estimator sk-toggleable\"><input class=\"sk-toggleable__control sk-hidden--visually\" id=\"sk-estimator-id-1\" type=\"checkbox\" checked><label for=\"sk-estimator-id-1\" class=\"sk-toggleable__label sk-toggleable__label-arrow\">DecisionTreeClassifier</label><div class=\"sk-toggleable__content\"><pre>DecisionTreeClassifier(criterion=&#x27;entropy&#x27;, max_leaf_nodes=10)</pre></div></div></div></div></div>"
            ]
          },
          "metadata": {},
          "execution_count": 5
        }
      ]
    },
    {
      "cell_type": "code",
      "source": [
        "# classify  pass or fail\n",
        "\n",
        "# test the output by changing other values\n",
        "y_pred = classify.predict([[26,47,18,32,0.42,11,36]])\n",
        "\n",
        "# print the predicted price\n",
        "if(y_pred[0]==2):\n",
        "    print(\"good air quality \")\n",
        "elif(y_pred[0]==1):\n",
        "    print(\"moderate air quality\")\n",
        "else:\n",
        "    print(\"bad air quality\")"
      ],
      "metadata": {
        "colab": {
          "base_uri": "https://localhost:8080/"
        },
        "id": "x4CvKTxe7ZV-",
        "outputId": "fdf1cead-d104-499e-8489-2b998664d0f0"
      },
      "execution_count": null,
      "outputs": [
        {
          "output_type": "stream",
          "name": "stdout",
          "text": [
            "good air quality \n"
          ]
        }
      ]
    },
    {
      "cell_type": "code",
      "source": [
        "# import export_graphviz\n",
        "from sklearn.tree import export_graphviz\n",
        "\n",
        "# export the decision tree to a tree.dot file\n",
        "# for visualizing the plot easily anywhere\n",
        "export_graphviz(classify, out_file ='tree.dot',\n",
        "               feature_names =[\"Temperature\",\"Humidity\",\"PM2.5\",\"PM10\",\"CO\",\"NO2\",\"O3\"])"
      ],
      "metadata": {
        "id": "BnEhTpSU7d_F"
      },
      "execution_count": null,
      "outputs": []
    }
  ]
}